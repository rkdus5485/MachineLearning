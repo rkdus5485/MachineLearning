{
 "cells": [
  {
   "cell_type": "markdown",
   "id": "delayed-discount",
   "metadata": {},
   "source": [
    "# EM Algorithm"
   ]
  },
  {
   "cell_type": "code",
   "execution_count": 24,
   "id": "turned-skating",
   "metadata": {},
   "outputs": [],
   "source": [
    "%matplotlib inline\n",
    "import random\n",
    "import numpy as np\n",
    "import matplotlib.pyplot as plt\n",
    "from matplotlib.patches import Ellipse\n",
    "import scipy as sc\n",
    "from scipy import random, linalg, stats, special\n",
    "from itertools import permutations"
   ]
  },
  {
   "cell_type": "markdown",
   "id": "nuclear-rover",
   "metadata": {},
   "source": [
    "## 1. 각 class별로 선택될 확률을 기반으로 sample 뽑기"
   ]
  },
  {
   "cell_type": "markdown",
   "id": "adopted-killing",
   "metadata": {},
   "source": [
    "### symmetric positive definite matrix 만드는 함수"
   ]
  },
  {
   "cell_type": "code",
   "execution_count": 25,
   "id": "cubic-spoke",
   "metadata": {},
   "outputs": [],
   "source": [
    "def makeSDmatrix(n,sd):\n",
    "    M = np.matrix(np.random.rand(n,n))\n",
    "    M = 0.5*(M + M.T)\n",
    "    M = M + sd*np.eye(n)\n",
    "    return M"
   ]
  },
  {
   "cell_type": "markdown",
   "id": "spoken-nation",
   "metadata": {},
   "source": [
    "### class 별 mean, covariacne 설정"
   ]
  },
  {
   "cell_type": "code",
   "execution_count": 26,
   "id": "respected-italic",
   "metadata": {
    "scrolled": false
   },
   "outputs": [
    {
     "name": "stdout",
     "output_type": "stream",
     "text": [
      "Means of the classes\n",
      "['Means for Class 1'] [ 8.37686321 34.0900392 ]\n",
      "['Means for Class 2'] [38.35920748  4.89176829]\n",
      "['Means for Class 3'] [35.72596848 37.14536132]\n",
      "\n",
      "\n",
      "Variances of the classes\n",
      "['the variance for Class 1']\n",
      "[[10.1735151   0.42426091]\n",
      " [ 0.42426091  9.97443803]]\n",
      "['the variance for Class 2']\n",
      "[[8.66432542 0.35417165]\n",
      " [0.35417165 8.58652965]]\n",
      "['the variance for Class 3']\n",
      "[[2.89931198 0.38851103]\n",
      " [0.38851103 3.42154882]]\n"
     ]
    }
   ],
   "source": [
    "# 차원 수\n",
    "Ndim = 2\n",
    "# class 수\n",
    "NClasses = 3\n",
    "# nsample : 전체 데이터 갯수\n",
    "Nsample = 150\n",
    "# class 별 뽑히는 확률 같게 하려면 '1'로 설정\n",
    "same_probability = 1\n",
    "# Mean\n",
    "Mu = [np.random.uniform(0.0, 50.0, Ndim) for i in range(1,NClasses+1)]\n",
    "\n",
    "# Covariance\n",
    "SDClass = np.random.uniform(1.0,10.0,NClasses)\n",
    "#print('SDClass : ',SDClass)\n",
    "Cov = [makeSDmatrix(Ndim,i) for i in SDClass]\n",
    "\n",
    "print ('Means of the classes')\n",
    "for i in range(0,NClasses):\n",
    "    print (['Means for Class ' + str(i+1)], Mu[i])\n",
    "print ('\\n')\n",
    "print('Variances of the classes')\n",
    "for i in range(0,NClasses):\n",
    "    print (['the variance for Class ' + str(i+1)])\n",
    "    print (Cov[i])"
   ]
  },
  {
   "cell_type": "markdown",
   "id": "sitting-charlotte",
   "metadata": {},
   "source": [
    "### Gamma 분포를 통해 클래스 별 선택될 확률 구하기"
   ]
  },
  {
   "cell_type": "code",
   "execution_count": 27,
   "id": "christian-mixer",
   "metadata": {},
   "outputs": [
    {
     "name": "stdout",
     "output_type": "stream",
     "text": [
      "The probabilities of each classes from 1 to 3\n",
      "[0.33333333 0.33333333 0.33333333]\n"
     ]
    }
   ],
   "source": [
    "# 모든 클래스가 선택될 확률을 동일하게\n",
    "if same_probability==1:\n",
    "    alpha = np.repeat(1.0/NClasses,NClasses)\n",
    "# 클래스 별 선택될 확률을 다르게\n",
    "else:\n",
    "    a = np.ones(NClasses)\n",
    "    n = 1\n",
    "    p = len(a)\n",
    "    rd = np.random.gamma(np.repeat(a,n),n,p)\n",
    "    rd = np.divide(rd,np.repeat(np.sum(rd),p))\n",
    "    alpha = rd\n",
    "\n",
    "print ('The probabilities of each classes from 1 to '+str(NClasses))\n",
    "print (alpha)"
   ]
  },
  {
   "cell_type": "markdown",
   "id": "accepting-athletics",
   "metadata": {},
   "source": [
    "### 위에서 구해진 확률에 따라 클래스 별로 sample 갯수 뽑기"
   ]
  },
  {
   "cell_type": "code",
   "execution_count": 28,
   "id": "successful-accessory",
   "metadata": {},
   "outputs": [
    {
     "name": "stdout",
     "output_type": "stream",
     "text": [
      "The number of objects in each classes from 1 to 3\n",
      "[37 51 62]\n"
     ]
    }
   ],
   "source": [
    "r = np.random.multinomial(Nsample,alpha)\n",
    "\n",
    "print ('The number of objects in each classes from 1 to '+str(NClasses))\n",
    "print (r)"
   ]
  },
  {
   "cell_type": "markdown",
   "id": "boring-cooler",
   "metadata": {},
   "source": [
    "### Multivariate 정규 분포를 통해 각 클래스별로 sample random으로 뽑기"
   ]
  },
  {
   "cell_type": "code",
   "execution_count": 29,
   "id": "random-average",
   "metadata": {
    "scrolled": false
   },
   "outputs": [
    {
     "data": {
      "text/plain": [
       "[array([[ 8.74469472, 33.30762407],\n",
       "        [ 4.9477898 , 34.1712211 ],\n",
       "        [ 5.17429606, 33.19034007],\n",
       "        [ 8.66553574, 34.47403019],\n",
       "        [ 9.30998055, 36.33475994],\n",
       "        [ 6.52560418, 34.91887917],\n",
       "        [ 6.07616744, 30.71472968],\n",
       "        [ 9.69706607, 31.49844643],\n",
       "        [ 6.86214687, 40.60451856],\n",
       "        [ 8.37208836, 34.60900311],\n",
       "        [ 4.13190291, 35.60512669],\n",
       "        [ 8.92583533, 37.26959484],\n",
       "        [12.22205838, 33.47504614],\n",
       "        [ 4.55934682, 36.88511386],\n",
       "        [ 8.01315326, 30.89247677],\n",
       "        [ 7.97246092, 36.53095223],\n",
       "        [ 5.60589935, 34.22504924],\n",
       "        [15.61022955, 39.0146853 ],\n",
       "        [10.73429025, 34.32281557],\n",
       "        [ 8.47848751, 38.04849742],\n",
       "        [ 6.37566218, 33.43899376],\n",
       "        [ 3.42201127, 33.09956667],\n",
       "        [10.32140801, 31.93402807],\n",
       "        [ 1.71812831, 36.66189893],\n",
       "        [10.28325017, 28.37950183],\n",
       "        [ 2.99900876, 32.49973901],\n",
       "        [10.48233992, 35.00661115],\n",
       "        [ 9.55765125, 35.17545785],\n",
       "        [ 7.97119243, 36.47685853],\n",
       "        [ 4.33975377, 40.05452857],\n",
       "        [13.71740735, 28.24800896],\n",
       "        [13.26329649, 28.53735217],\n",
       "        [ 3.83843268, 31.75649383],\n",
       "        [ 7.18251771, 34.15589089],\n",
       "        [10.74003587, 39.28367956],\n",
       "        [12.94882137, 40.3801514 ],\n",
       "        [ 3.72998729, 31.72269358]]),\n",
       " array([[31.44539167, -3.06269179],\n",
       "        [40.77002277,  5.38055996],\n",
       "        [35.59855251, 10.6766522 ],\n",
       "        [40.54324846,  5.60375521],\n",
       "        [33.52962639,  3.46750213],\n",
       "        [34.68924844,  3.84727989],\n",
       "        [37.05642318,  6.50860695],\n",
       "        [40.04853926,  2.88300258],\n",
       "        [41.69185815,  7.05875086],\n",
       "        [34.27250724,  5.8898852 ],\n",
       "        [42.34349771, -0.08650897],\n",
       "        [37.72059242,  5.09544953],\n",
       "        [38.58800073,  4.58800585],\n",
       "        [32.61501632,  5.51127   ],\n",
       "        [35.99324331,  7.02829378],\n",
       "        [34.68337539,  5.4433931 ],\n",
       "        [36.18854836,  3.00529893],\n",
       "        [37.56108679,  2.80240237],\n",
       "        [34.84545911,  1.64556427],\n",
       "        [40.76439813,  1.09089468],\n",
       "        [37.69478569,  4.54861173],\n",
       "        [40.15015486,  9.34279748],\n",
       "        [41.62766441,  4.30647232],\n",
       "        [36.64635416,  2.6772141 ],\n",
       "        [38.27439563,  4.91631467],\n",
       "        [38.33868384,  4.15088499],\n",
       "        [37.80948006,  7.57520058],\n",
       "        [34.9116004 ,  3.35381554],\n",
       "        [40.2836568 ,  6.81954041],\n",
       "        [37.05904854,  1.36479792],\n",
       "        [40.13322138,  4.92650672],\n",
       "        [40.35996425,  8.88861868],\n",
       "        [37.2530625 ,  4.07971437],\n",
       "        [39.85180888,  3.74557336],\n",
       "        [41.7058778 ,  7.8751502 ],\n",
       "        [36.04257744,  4.45655145],\n",
       "        [35.93347473,  8.12858992],\n",
       "        [39.5574973 ,  6.9101254 ],\n",
       "        [37.6288542 ,  8.2806862 ],\n",
       "        [37.16156599,  6.67484277],\n",
       "        [39.67705254,  1.01195344],\n",
       "        [36.79345921,  1.1554895 ],\n",
       "        [39.65241201,  8.43236325],\n",
       "        [35.27045311,  7.03739106],\n",
       "        [36.40085934,  1.37931259],\n",
       "        [38.75650173,  4.25399432],\n",
       "        [33.35310396,  4.94316058],\n",
       "        [38.60551297,  6.41574226],\n",
       "        [43.60086721,  1.02518671],\n",
       "        [41.79498206,  9.51216882],\n",
       "        [35.16432712,  6.26417257]]),\n",
       " array([[35.59091553, 41.21447862],\n",
       "        [34.76543175, 40.08033936],\n",
       "        [36.67268734, 40.23673121],\n",
       "        [34.44954061, 39.18750087],\n",
       "        [35.7680504 , 37.02878326],\n",
       "        [33.81869637, 39.55717883],\n",
       "        [37.03930417, 41.18691731],\n",
       "        [35.46670835, 36.06868917],\n",
       "        [31.64498098, 36.08540416],\n",
       "        [31.66452679, 40.22815053],\n",
       "        [38.1293106 , 37.36581145],\n",
       "        [34.35698839, 38.19233173],\n",
       "        [36.6463572 , 39.04690782],\n",
       "        [37.22169737, 35.42961663],\n",
       "        [37.13249187, 34.84026407],\n",
       "        [38.33167038, 34.84671471],\n",
       "        [37.88135684, 38.22338107],\n",
       "        [32.69299201, 35.35906621],\n",
       "        [36.71024086, 40.33490213],\n",
       "        [37.48396668, 34.98956797],\n",
       "        [37.71717015, 37.97574078],\n",
       "        [33.23177925, 32.7201403 ],\n",
       "        [35.1495913 , 38.98017854],\n",
       "        [31.13955519, 36.92400055],\n",
       "        [36.19922205, 36.21791599],\n",
       "        [35.77227283, 34.97363356],\n",
       "        [36.32252019, 40.54146742],\n",
       "        [34.26971594, 37.00115079],\n",
       "        [35.78628252, 37.0198438 ],\n",
       "        [36.4189368 , 38.61548238],\n",
       "        [39.8262128 , 38.36388105],\n",
       "        [36.32478951, 36.44888975],\n",
       "        [35.79336794, 38.16994395],\n",
       "        [35.05620411, 34.94622568],\n",
       "        [37.11221766, 37.48147826],\n",
       "        [36.85207453, 39.55394118],\n",
       "        [35.3695008 , 36.60972603],\n",
       "        [33.84536881, 35.1894925 ],\n",
       "        [37.23157767, 33.20292836],\n",
       "        [33.36622664, 34.96878107],\n",
       "        [34.29121481, 34.26788993],\n",
       "        [35.42167922, 40.90792218],\n",
       "        [35.28786653, 35.87115961],\n",
       "        [37.82763266, 38.73107491],\n",
       "        [36.86432628, 35.41809463],\n",
       "        [36.79312451, 35.02312878],\n",
       "        [38.74034168, 38.83819082],\n",
       "        [34.04177787, 36.52499338],\n",
       "        [34.40437435, 37.68625003],\n",
       "        [37.8048382 , 39.47897406],\n",
       "        [36.54286589, 36.6965094 ],\n",
       "        [37.53220913, 38.10939259],\n",
       "        [33.34149926, 36.42939865],\n",
       "        [38.13341718, 40.00640291],\n",
       "        [35.63162363, 36.98598595],\n",
       "        [34.28700692, 33.78941873],\n",
       "        [36.29465041, 36.29976145],\n",
       "        [34.01233029, 37.94437634],\n",
       "        [36.93552085, 36.25745358],\n",
       "        [37.2135081 , 35.74850965],\n",
       "        [34.39714493, 37.92961731],\n",
       "        [37.38532324, 38.34376895]])]"
      ]
     },
     "execution_count": 29,
     "metadata": {},
     "output_type": "execute_result"
    }
   ],
   "source": [
    "data_sample = [np.random.multivariate_normal(Mu[i], Cov[i], r[i]) for i in range(0,NClasses)]\n",
    "data_sample"
   ]
  },
  {
   "cell_type": "markdown",
   "id": "opposite-garbage",
   "metadata": {},
   "source": [
    "### 데이터 분포 확인"
   ]
  },
  {
   "cell_type": "code",
   "execution_count": 30,
   "id": "universal-processor",
   "metadata": {},
   "outputs": [
    {
     "data": {
      "image/png": "[encoded data removed]",
      "text/plain": [
       "<Figure size 576x576 with 1 Axes>"
      ]
     },
     "metadata": {
      "needs_background": "light"
     },
     "output_type": "display_data"
    }
   ],
   "source": [
    "plotsize = 8\n",
    "sizeMean = 10\n",
    "text_size = 16\n",
    "axis_font = {'size':'24'}\n",
    "Title_font = {'size':'28'}\n",
    "color = ['b', 'g', 'r', 'c', 'm', 'y', 'k']\n",
    "\n",
    "fig = plt.figure()\n",
    "\n",
    "ax = fig.add_subplot(1,1,1)\n",
    "for i in range(NClasses):\n",
    "      \n",
    "    # the sd with ellipses\n",
    "    # central point of the error ellipse\n",
    "    pos = [Mu[i][0],Mu[i][1]]\n",
    "\n",
    "    # for the angle we need the eigenvectors of the covariance matrix\n",
    "    w,ve = np.linalg.eig(Cov[i][0:2,0:2])\n",
    "\n",
    "    # We pick the largest eigen value\n",
    "    order = w.argsort()[::-1]\n",
    "    w = w[order]\n",
    "    ve = ve[:,order]\n",
    "\n",
    "    # we compute the angle towards the eigen vector with the largest eigen value\n",
    "    theta = np.degrees(np.arctan(ve[1,0]/ve[0,0]))\n",
    "\n",
    "    # Compute the width and height of the ellipse based on the eigen values (ie the length of the vectors)\n",
    "    width, height = 2 * np.sqrt(w)\n",
    "\n",
    "    # making the ellipse\n",
    "    ellip = Ellipse(xy=pos, width=width, height=height, angle=theta)\n",
    "    ellip.set_alpha(0.5)\n",
    "    ellip.set_facecolor(color[i])\n",
    "             \n",
    "    ax.plot(data_sample[i][:,0],data_sample[i][:,1], '.', c=color[i], markersize=sizeMean)\n",
    "    ax.add_artist(ellip)\n",
    "        \n",
    "for label in (ax.get_xticklabels() + ax.get_yticklabels()):\n",
    "    label.set_fontname('Arial')\n",
    "    label.set_fontsize(text_size)\n",
    "ax.spines['right'].set_visible(False)\n",
    "ax.spines['top'].set_visible(False)\n",
    "ax.xaxis.set_ticks_position('bottom')\n",
    "ax.yaxis.set_ticks_position('left')\n",
    "ax.set_ylabel('Y', **axis_font)\n",
    "ax.set_xlabel('X', **axis_font)\n",
    "ax.set_title('Original Data', y=1.08, **Title_font)\n",
    "ax.figure.set_size_inches(plotsize,plotsize)\n",
    "\n",
    "plt.show()"
   ]
  },
  {
   "cell_type": "markdown",
   "id": "democratic-norman",
   "metadata": {},
   "source": [
    "## 2. 데이터 random한 순서로 섞기"
   ]
  },
  {
   "cell_type": "code",
   "execution_count": 31,
   "id": "victorian-fever",
   "metadata": {},
   "outputs": [
    {
     "name": "stdout",
     "output_type": "stream",
     "text": [
      "[[ 8.74469472 33.30762407  1.        ]\n",
      " [ 4.9477898  34.1712211   1.        ]\n",
      " [ 5.17429606 33.19034007  1.        ]\n",
      " [ 8.66553574 34.47403019  1.        ]\n",
      " [ 9.30998055 36.33475994  1.        ]\n",
      " [ 6.52560418 34.91887917  1.        ]\n",
      " [ 6.07616744 30.71472968  1.        ]\n",
      " [ 9.69706607 31.49844643  1.        ]\n",
      " [ 6.86214687 40.60451856  1.        ]\n",
      " [ 8.37208836 34.60900311  1.        ]\n",
      " [ 4.13190291 35.60512669  1.        ]\n",
      " [ 8.92583533 37.26959484  1.        ]\n",
      " [12.22205838 33.47504614  1.        ]\n",
      " [ 4.55934682 36.88511386  1.        ]\n",
      " [ 8.01315326 30.89247677  1.        ]\n",
      " [ 7.97246092 36.53095223  1.        ]\n",
      " [ 5.60589935 34.22504924  1.        ]\n",
      " [15.61022955 39.0146853   1.        ]\n",
      " [10.73429025 34.32281557  1.        ]\n",
      " [ 8.47848751 38.04849742  1.        ]\n",
      " [ 6.37566218 33.43899376  1.        ]\n",
      " [ 3.42201127 33.09956667  1.        ]\n",
      " [10.32140801 31.93402807  1.        ]\n",
      " [ 1.71812831 36.66189893  1.        ]\n",
      " [10.28325017 28.37950183  1.        ]\n",
      " [ 2.99900876 32.49973901  1.        ]\n",
      " [10.48233992 35.00661115  1.        ]\n",
      " [ 9.55765125 35.17545785  1.        ]\n",
      " [ 7.97119243 36.47685853  1.        ]\n",
      " [ 4.33975377 40.05452857  1.        ]\n",
      " [13.71740735 28.24800896  1.        ]\n",
      " [13.26329649 28.53735217  1.        ]\n",
      " [ 3.83843268 31.75649383  1.        ]\n",
      " [ 7.18251771 34.15589089  1.        ]\n",
      " [10.74003587 39.28367956  1.        ]\n",
      " [12.94882137 40.3801514   1.        ]\n",
      " [ 3.72998729 31.72269358  1.        ]\n",
      " [31.44539167 -3.06269179  2.        ]\n",
      " [40.77002277  5.38055996  2.        ]\n",
      " [35.59855251 10.6766522   2.        ]\n",
      " [40.54324846  5.60375521  2.        ]\n",
      " [33.52962639  3.46750213  2.        ]\n",
      " [34.68924844  3.84727989  2.        ]\n",
      " [37.05642318  6.50860695  2.        ]\n",
      " [40.04853926  2.88300258  2.        ]\n",
      " [41.69185815  7.05875086  2.        ]\n",
      " [34.27250724  5.8898852   2.        ]\n",
      " [42.34349771 -0.08650897  2.        ]\n",
      " [37.72059242  5.09544953  2.        ]\n",
      " [38.58800073  4.58800585  2.        ]\n",
      " [32.61501632  5.51127     2.        ]\n",
      " [35.99324331  7.02829378  2.        ]\n",
      " [34.68337539  5.4433931   2.        ]\n",
      " [36.18854836  3.00529893  2.        ]\n",
      " [37.56108679  2.80240237  2.        ]\n",
      " [34.84545911  1.64556427  2.        ]\n",
      " [40.76439813  1.09089468  2.        ]\n",
      " [37.69478569  4.54861173  2.        ]\n",
      " [40.15015486  9.34279748  2.        ]\n",
      " [41.62766441  4.30647232  2.        ]\n",
      " [36.64635416  2.6772141   2.        ]\n",
      " [38.27439563  4.91631467  2.        ]\n",
      " [38.33868384  4.15088499  2.        ]\n",
      " [37.80948006  7.57520058  2.        ]\n",
      " [34.9116004   3.35381554  2.        ]\n",
      " [40.2836568   6.81954041  2.        ]\n",
      " [37.05904854  1.36479792  2.        ]\n",
      " [40.13322138  4.92650672  2.        ]\n",
      " [40.35996425  8.88861868  2.        ]\n",
      " [37.2530625   4.07971437  2.        ]\n",
      " [39.85180888  3.74557336  2.        ]\n",
      " [41.7058778   7.8751502   2.        ]\n",
      " [36.04257744  4.45655145  2.        ]\n",
      " [35.93347473  8.12858992  2.        ]\n",
      " [39.5574973   6.9101254   2.        ]\n",
      " [37.6288542   8.2806862   2.        ]\n",
      " [37.16156599  6.67484277  2.        ]\n",
      " [39.67705254  1.01195344  2.        ]\n",
      " [36.79345921  1.1554895   2.        ]\n",
      " [39.65241201  8.43236325  2.        ]\n",
      " [35.27045311  7.03739106  2.        ]\n",
      " [36.40085934  1.37931259  2.        ]\n",
      " [38.75650173  4.25399432  2.        ]\n",
      " [33.35310396  4.94316058  2.        ]\n",
      " [38.60551297  6.41574226  2.        ]\n",
      " [43.60086721  1.02518671  2.        ]\n",
      " [41.79498206  9.51216882  2.        ]\n",
      " [35.16432712  6.26417257  2.        ]\n",
      " [35.59091553 41.21447862  3.        ]\n",
      " [34.76543175 40.08033936  3.        ]\n",
      " [36.67268734 40.23673121  3.        ]\n",
      " [34.44954061 39.18750087  3.        ]\n",
      " [35.7680504  37.02878326  3.        ]\n",
      " [33.81869637 39.55717883  3.        ]\n",
      " [37.03930417 41.18691731  3.        ]\n",
      " [35.46670835 36.06868917  3.        ]\n",
      " [31.64498098 36.08540416  3.        ]\n",
      " [31.66452679 40.22815053  3.        ]\n",
      " [38.1293106  37.36581145  3.        ]\n",
      " [34.35698839 38.19233173  3.        ]\n",
      " [36.6463572  39.04690782  3.        ]\n",
      " [37.22169737 35.42961663  3.        ]\n",
      " [37.13249187 34.84026407  3.        ]\n",
      " [38.33167038 34.84671471  3.        ]\n",
      " [37.88135684 38.22338107  3.        ]\n",
      " [32.69299201 35.35906621  3.        ]\n",
      " [36.71024086 40.33490213  3.        ]\n",
      " [37.48396668 34.98956797  3.        ]\n",
      " [37.71717015 37.97574078  3.        ]\n",
      " [33.23177925 32.7201403   3.        ]\n",
      " [35.1495913  38.98017854  3.        ]\n",
      " [31.13955519 36.92400055  3.        ]\n",
      " [36.19922205 36.21791599  3.        ]\n",
      " [35.77227283 34.97363356  3.        ]\n",
      " [36.32252019 40.54146742  3.        ]\n",
      " [34.26971594 37.00115079  3.        ]\n",
      " [35.78628252 37.0198438   3.        ]\n",
      " [36.4189368  38.61548238  3.        ]\n",
      " [39.8262128  38.36388105  3.        ]\n",
      " [36.32478951 36.44888975  3.        ]\n",
      " [35.79336794 38.16994395  3.        ]\n",
      " [35.05620411 34.94622568  3.        ]\n",
      " [37.11221766 37.48147826  3.        ]\n",
      " [36.85207453 39.55394118  3.        ]\n",
      " [35.3695008  36.60972603  3.        ]\n",
      " [33.84536881 35.1894925   3.        ]\n",
      " [37.23157767 33.20292836  3.        ]\n",
      " [33.36622664 34.96878107  3.        ]\n",
      " [34.29121481 34.26788993  3.        ]\n",
      " [35.42167922 40.90792218  3.        ]\n",
      " [35.28786653 35.87115961  3.        ]\n",
      " [37.82763266 38.73107491  3.        ]\n",
      " [36.86432628 35.41809463  3.        ]\n",
      " [36.79312451 35.02312878  3.        ]\n",
      " [38.74034168 38.83819082  3.        ]\n",
      " [34.04177787 36.52499338  3.        ]\n",
      " [34.40437435 37.68625003  3.        ]\n",
      " [37.8048382  39.47897406  3.        ]\n",
      " [36.54286589 36.6965094   3.        ]\n",
      " [37.53220913 38.10939259  3.        ]\n",
      " [33.34149926 36.42939865  3.        ]\n",
      " [38.13341718 40.00640291  3.        ]\n",
      " [35.63162363 36.98598595  3.        ]\n",
      " [34.28700692 33.78941873  3.        ]\n",
      " [36.29465041 36.29976145  3.        ]\n",
      " [34.01233029 37.94437634  3.        ]\n",
      " [36.93552085 36.25745358  3.        ]\n",
      " [37.2135081  35.74850965  3.        ]\n",
      " [34.39714493 37.92961731  3.        ]\n",
      " [37.38532324 38.34376895  3.        ]]\n",
      "The data:\n",
      "[[35.28786653 35.87115961]\n",
      " [35.46670835 36.06868917]\n",
      " [37.6288542   8.2806862 ]\n",
      " [ 4.33975377 40.05452857]\n",
      " [36.93552085 36.25745358]\n",
      " [41.69185815  7.05875086]\n",
      " [10.74003587 39.28367956]\n",
      " [34.68337539  5.4433931 ]\n",
      " [38.58800073  4.58800585]\n",
      " [10.32140801 31.93402807]\n",
      " [37.82763266 38.73107491]\n",
      " [ 4.9477898  34.1712211 ]\n",
      " [38.74034168 38.83819082]\n",
      " [37.05904854  1.36479792]\n",
      " [36.79345921  1.1554895 ]\n",
      " [35.99324331  7.02829378]\n",
      " [ 1.71812831 36.66189893]\n",
      " [10.48233992 35.00661115]\n",
      " [38.33167038 34.84671471]\n",
      " [41.79498206  9.51216882]\n",
      " [34.28700692 33.78941873]\n",
      " [13.71740735 28.24800896]\n",
      " [35.77227283 34.97363356]\n",
      " [37.11221766 37.48147826]\n",
      " [40.77002277  5.38055996]\n",
      " [40.13322138  4.92650672]\n",
      " [35.93347473  8.12858992]\n",
      " [41.7058778   7.8751502 ]\n",
      " [38.27439563  4.91631467]\n",
      " [10.73429025 34.32281557]\n",
      " [36.18854836  3.00529893]\n",
      " [37.05642318  6.50860695]\n",
      " [31.64498098 36.08540416]\n",
      " [35.16432712  6.26417257]\n",
      " [34.26971594 37.00115079]\n",
      " [ 7.97119243 36.47685853]\n",
      " [12.94882137 40.3801514 ]\n",
      " [40.76439813  1.09089468]\n",
      " [37.48396668 34.98956797]\n",
      " [35.05620411 34.94622568]\n",
      " [15.61022955 39.0146853 ]\n",
      " [36.29465041 36.29976145]\n",
      " [36.40085934  1.37931259]\n",
      " [34.9116004   3.35381554]\n",
      " [35.63162363 36.98598595]\n",
      " [36.04257744  4.45655145]\n",
      " [33.36622664 34.96878107]\n",
      " [37.2135081  35.74850965]\n",
      " [31.66452679 40.22815053]\n",
      " [35.59855251 10.6766522 ]\n",
      " [35.79336794 38.16994395]\n",
      " [10.28325017 28.37950183]\n",
      " [33.35310396  4.94316058]\n",
      " [ 6.37566218 33.43899376]\n",
      " [34.01233029 37.94437634]\n",
      " [32.61501632  5.51127   ]\n",
      " [ 8.92583533 37.26959484]\n",
      " [36.32478951 36.44888975]\n",
      " [35.42167922 40.90792218]\n",
      " [34.44954061 39.18750087]\n",
      " [38.75650173  4.25399432]\n",
      " [34.40437435 37.68625003]\n",
      " [34.27250724  5.8898852 ]\n",
      " [37.88135684 38.22338107]\n",
      " [33.34149926 36.42939865]\n",
      " [ 9.55765125 35.17545785]\n",
      " [38.60551297  6.41574226]\n",
      " [ 7.18251771 34.15589089]\n",
      " [34.39714493 37.92961731]\n",
      " [34.29121481 34.26788993]\n",
      " [33.52962639  3.46750213]\n",
      " [ 9.30998055 36.33475994]\n",
      " [ 7.97246092 36.53095223]\n",
      " [ 6.86214687 40.60451856]\n",
      " [37.2530625   4.07971437]\n",
      " [35.3695008  36.60972603]\n",
      " [ 6.52560418 34.91887917]\n",
      " [33.81869637 39.55717883]\n",
      " [13.26329649 28.53735217]\n",
      " [33.84536881 35.1894925 ]\n",
      " [40.35996425  8.88861868]\n",
      " [39.65241201  8.43236325]\n",
      " [32.69299201 35.35906621]\n",
      " [36.64635416  2.6772141 ]\n",
      " [34.68924844  3.84727989]\n",
      " [40.15015486  9.34279748]\n",
      " [31.13955519 36.92400055]\n",
      " [37.22169737 35.42961663]\n",
      " [36.4189368  38.61548238]\n",
      " [ 5.17429606 33.19034007]\n",
      " [36.86432628 35.41809463]\n",
      " [37.69478569  4.54861173]\n",
      " [35.59091553 41.21447862]\n",
      " [36.71024086 40.33490213]\n",
      " [ 8.47848751 38.04849742]\n",
      " [ 3.83843268 31.75649383]\n",
      " [38.1293106  37.36581145]\n",
      " [37.16156599  6.67484277]\n",
      " [37.38532324 38.34376895]\n",
      " [36.85207453 39.55394118]\n",
      " [ 2.99900876 32.49973901]\n",
      " [39.5574973   6.9101254 ]\n",
      " [37.80948006  7.57520058]\n",
      " [36.19922205 36.21791599]\n",
      " [37.23157767 33.20292836]\n",
      " [37.13249187 34.84026407]\n",
      " [34.76543175 40.08033936]\n",
      " [36.6463572  39.04690782]\n",
      " [37.71717015 37.97574078]\n",
      " [37.72059242  5.09544953]\n",
      " [33.23177925 32.7201403 ]\n",
      " [35.1495913  38.98017854]\n",
      " [34.35698839 38.19233173]\n",
      " [35.78628252 37.0198438 ]\n",
      " [39.67705254  1.01195344]\n",
      " [39.8262128  38.36388105]\n",
      " [40.54324846  5.60375521]\n",
      " [ 3.42201127 33.09956667]\n",
      " [34.04177787 36.52499338]\n",
      " [37.8048382  39.47897406]\n",
      " [ 8.01315326 30.89247677]\n",
      " [43.60086721  1.02518671]\n",
      " [42.34349771 -0.08650897]\n",
      " [31.44539167 -3.06269179]\n",
      " [35.7680504  37.02878326]\n",
      " [ 4.13190291 35.60512669]\n",
      " [36.54286589 36.6965094 ]\n",
      " [41.62766441  4.30647232]\n",
      " [34.84545911  1.64556427]\n",
      " [37.03930417 41.18691731]\n",
      " [37.56108679  2.80240237]\n",
      " [38.13341718 40.00640291]\n",
      " [ 3.72998729 31.72269358]\n",
      " [37.53220913 38.10939259]\n",
      " [36.79312451 35.02312878]\n",
      " [39.85180888  3.74557336]\n",
      " [ 5.60589935 34.22504924]\n",
      " [35.27045311  7.03739106]\n",
      " [ 9.69706607 31.49844643]\n",
      " [40.04853926  2.88300258]\n",
      " [36.67268734 40.23673121]\n",
      " [ 6.07616744 30.71472968]\n",
      " [40.2836568   6.81954041]\n",
      " [ 8.37208836 34.60900311]\n",
      " [ 4.55934682 36.88511386]\n",
      " [ 8.74469472 33.30762407]\n",
      " [ 8.66553574 34.47403019]\n",
      " [36.32252019 40.54146742]\n",
      " [12.22205838 33.47504614]\n",
      " [38.33868384  4.15088499]]\n"
     ]
    }
   ],
   "source": [
    "# data를 array로\n",
    "y = np.empty([1, Ndim])\n",
    "for i in range(NClasses):\n",
    "    y = np.vstack((y,data_sample[i]))  \n",
    "y = np.delete(y, 0, axis=0)\n",
    "# 데이터들에 클래스 할당하기\n",
    "v_true = np.zeros((1)) \n",
    "for i,j in enumerate(r):\n",
    "    v_true = np.hstack((v_true, np.repeat(i+1, j)))\n",
    "\n",
    "v_true = np.array([v_true[1:]])\n",
    "y_true = np.concatenate((y, v_true.T), axis=1)\n",
    "print(y_true)\n",
    "\n",
    "# 데이터 섞기\n",
    "np.random.shuffle(y_true)\n",
    "\n",
    "y = y_true[:,0:-1]\n",
    "\n",
    "print ('The data:')\n",
    "print (y)"
   ]
  },
  {
   "cell_type": "code",
   "execution_count": 32,
   "id": "written-privilege",
   "metadata": {},
   "outputs": [
    {
     "data": {
      "image/png": "[encoded data removed]",
      "text/plain": [
       "<Figure size 576x576 with 1 Axes>"
      ]
     },
     "metadata": {
      "needs_background": "light"
     },
     "output_type": "display_data"
    }
   ],
   "source": [
    "plotsize = 8\n",
    "sizeMean = 10\n",
    "text_size = 16\n",
    "axis_font = {'size':'24'}\n",
    "Title_font = {'size':'28'}\n",
    "\n",
    "fig = plt.figure()\n",
    "\n",
    "ax = fig.add_subplot(1,1,1)\n",
    "ax.plot(y[:,0],y[:,1], 'k.', markersize=sizeMean)\n",
    "\n",
    "for label in (ax.get_xticklabels() + ax.get_yticklabels()):\n",
    "    label.set_fontname('Arial')\n",
    "    label.set_fontsize(text_size)\n",
    "ax.spines['right'].set_visible(False)\n",
    "ax.spines['top'].set_visible(False)\n",
    "ax.xaxis.set_ticks_position('bottom')\n",
    "ax.yaxis.set_ticks_position('left')\n",
    "ax.set_ylabel('Y', **axis_font)\n",
    "ax.set_xlabel('X', **axis_font)\n",
    "ax.set_title('After shuffle data plot', y=1.08, **Title_font)\n",
    "ax.figure.set_size_inches(plotsize,plotsize)\n",
    "\n",
    "plt.show()"
   ]
  },
  {
   "cell_type": "markdown",
   "id": "critical-trader",
   "metadata": {},
   "source": [
    "## 3. E-step, M-step 정의"
   ]
  },
  {
   "cell_type": "markdown",
   "id": "suspended-speech",
   "metadata": {},
   "source": [
    "### mean, covariance matrix 초기화"
   ]
  },
  {
   "cell_type": "code",
   "execution_count": 33,
   "id": "regulation-emphasis",
   "metadata": {
    "scrolled": true
   },
   "outputs": [],
   "source": [
    "# 처음 Mean과 Covariance 행렬을 random으로 만들어두고\n",
    "# 초기 확률 w는 위에서 뽑은 class별 선택될 확률과 동일\n",
    "\n",
    "initMu = np.empty([NClasses, Ndim])\n",
    "initCov = np.empty([Ndim, Ndim, NClasses])\n",
    "\n",
    "for j in range(NClasses):\n",
    "    \n",
    "    initMu[j,:] = np.random.uniform(0.0, 50.0, Ndim)\n",
    "    sd = np.random.uniform(1.0,10.0)\n",
    "    initCov[:,:,j] = makeSDmatrix(Ndim,sd)\n",
    "\n",
    "a = np.ones(NClasses)\n",
    "n = 1\n",
    "p = len(a)\n",
    "rd = np.random.gamma(np.repeat(a,n),n,p)\n",
    "rd = np.divide(rd,np.repeat(np.sum(rd),p))\n",
    "initW = rd"
   ]
  },
  {
   "cell_type": "markdown",
   "id": "continuing-planning",
   "metadata": {},
   "source": [
    "### E-step"
   ]
  },
  {
   "cell_type": "code",
   "execution_count": 34,
   "id": "thrown-finish",
   "metadata": {},
   "outputs": [],
   "source": [
    "def EStep(y, w, mu, cov):\n",
    "    \n",
    "    r_ij = np.zeros((y.shape[0], mu.shape[0]))\n",
    "\n",
    "    for Object in range(y.shape[0]):\n",
    "        r_ij_Sumj = np.zeros(mu.shape[0])\n",
    "        \n",
    "        for jClass in range(mu.shape[0]):\n",
    "            r_ij_Sumj[jClass] = w[jClass]* sc.stats.multivariate_normal.pdf(y[Object,:], mu[jClass,:], cov[:,:,jClass])\n",
    "        \n",
    "        for jClass in range(r_ij_Sumj.shape[0]):\n",
    "            r_ij[Object,jClass] =   r_ij_Sumj[jClass] / np.sum(r_ij_Sumj)\n",
    "    \n",
    "    return r_ij"
   ]
  },
  {
   "cell_type": "markdown",
   "id": "abroad-butler",
   "metadata": {},
   "source": [
    "### M-step"
   ]
  },
  {
   "cell_type": "code",
   "execution_count": 35,
   "id": "modern-sympathy",
   "metadata": {},
   "outputs": [],
   "source": [
    "def MStep(r, y, mu, cov):\n",
    "    \n",
    "    N = y.shape[0]\n",
    "    \n",
    "    Allmu_j = np.zeros((N, mu.shape[0], mu.shape[1]))\n",
    "    Allcov_j = np.zeros((N, cov.shape[0], cov.shape[1], cov.shape[2]))\n",
    "    mu_j = np.zeros((mu.shape[0], mu.shape[1]))\n",
    "    cov_j = np.zeros((cov.shape[0], cov.shape[1], cov.shape[2]))\n",
    "    \n",
    "    # weight 업데이트\n",
    "    w_j = np.sum(r, axis=0) / N\n",
    "    \n",
    "    # mean : mu_j\n",
    "    for Object in range(N):\n",
    "        Allmu_j[Object,:,:]=np.asmatrix(r[Object,:]).T*y[Object,:]\n",
    "    \n",
    "    for j in range(cov.shape[2]):\n",
    "        mu_j[j,:] = (np.sum(Allmu_j, axis=0)[j,:])/(np.sum(r, axis=0)[j])\n",
    "        \n",
    "    # covariance : cov_j\n",
    "    for Object in range(N):\n",
    "        for j in range(cov.shape[2]):\n",
    "            Allcov_j[Object,:,:,j] = r[Object,j]*np.asmatrix(y[Object,:]-mu_j[j,:]).T*np.asmatrix(y[Object,:]-mu_j[j,:])\n",
    "            \n",
    "    for j in range(cov.shape[2]):\n",
    "        cov_j[:,:,j] = (np.sum(Allcov_j, axis=0)[:,:,j])/(np.sum(r,axis=0)[j])\n",
    "    \n",
    "    return w_j,mu_j,cov_j"
   ]
  },
  {
   "cell_type": "markdown",
   "id": "narrative-observation",
   "metadata": {},
   "source": [
    "### 1번 실행해 보기"
   ]
  },
  {
   "cell_type": "code",
   "execution_count": 36,
   "id": "statewide-salem",
   "metadata": {
    "scrolled": true
   },
   "outputs": [
    {
     "name": "stdout",
     "output_type": "stream",
     "text": [
      "r_n :  [[5.42125888e-53 1.00000000e+00 6.98486008e-12]\n",
      " [9.03460742e-54 1.00000000e+00 4.55464693e-12]\n",
      " [1.00000000e+00 2.07943931e-16 4.39328738e-11]\n",
      " [4.72328191e-65 9.85942039e-01 1.40579609e-02]\n",
      " [1.53292708e-55 1.00000000e+00 9.21829798e-13]\n",
      " [9.99999999e-01 1.40393226e-14 5.03213689e-10]\n",
      " [2.37154520e-59 9.99816938e-01 1.83061801e-04]\n",
      " [1.00000000e+00 8.66514803e-24 2.27208304e-15]\n",
      " [1.00000000e+00 7.57314241e-22 2.31397094e-14]\n",
      " [4.30149534e-36 1.82829666e-01 8.17170334e-01]\n",
      " [1.53471972e-64 1.00000000e+00 1.52526158e-14]\n",
      " [3.73776789e-46 4.92766543e-02 9.50723346e-01]\n",
      " [1.06215955e-65 1.00000000e+00 5.70335394e-15]\n",
      " [1.00000000e+00 3.55810272e-28 7.74532984e-18]\n",
      " [1.00000000e+00 1.03938776e-28 4.03461662e-18]\n",
      " [1.00000000e+00 4.85379471e-20 3.20513366e-13]\n",
      " [3.71198776e-56 8.98673480e-02 9.10132652e-01]\n",
      " [4.48672652e-45 9.40917300e-01 5.90826997e-02]\n",
      " [3.67331279e-52 1.00000000e+00 1.69643363e-12]\n",
      " [9.99999668e-01 4.77668100e-10 3.31850453e-07]\n",
      " [1.33955149e-45 1.00000000e+00 2.86923051e-10]\n",
      " [4.57965499e-25 2.42837040e-02 9.75716296e-01]\n",
      " [1.85425418e-50 1.00000000e+00 1.49691292e-11]\n",
      " [9.88540202e-60 1.00000000e+00 1.53627429e-13]\n",
      " [1.00000000e+00 2.14373164e-18 2.55123150e-12]\n",
      " [1.00000000e+00 8.61779097e-20 3.77617244e-13]\n",
      " [1.00000000e+00 3.88738426e-18 4.80716800e-12]\n",
      " [9.99999996e-01 3.96878043e-13 3.88045876e-09]\n",
      " [1.00000000e+00 1.31469128e-21 3.15886613e-14]\n",
      " [8.32583991e-43 8.87711034e-01 1.12288966e-01]\n",
      " [1.00000000e+00 1.77353530e-26 5.95293173e-17]\n",
      " [1.00000000e+00 4.88124828e-20 2.81120801e-13]\n",
      " [2.89981941e-51 1.00000000e+00 1.43302999e-10]\n",
      " [1.00000000e+00 4.97998489e-22 2.31186751e-14]\n",
      " [5.70752982e-56 1.00000000e+00 3.91706911e-12]\n",
      " [6.78575521e-51 9.31491917e-01 6.85080827e-02]\n",
      " [1.43011757e-62 9.99993188e-01 6.81213736e-06]\n",
      " [1.00000000e+00 5.26470984e-25 6.28189681e-16]\n",
      " [6.88610820e-52 1.00000000e+00 3.05233576e-12]\n",
      " [7.85637185e-50 1.00000000e+00 2.98626779e-11]\n",
      " [2.44365956e-57 9.99995900e-01 4.09992970e-06]\n",
      " [3.64370560e-55 1.00000000e+00 1.56805866e-12]\n",
      " [1.00000000e+00 1.00423222e-28 3.85497894e-18]\n",
      " [1.00000000e+00 5.62612814e-27 3.38336300e-17]\n",
      " [6.50844190e-57 1.00000000e+00 1.15303090e-12]\n",
      " [1.00000000e+00 2.57022445e-24 9.60272746e-16]\n",
      " [1.01562245e-48 1.00000000e+00 1.34733922e-10]\n",
      " [4.12754488e-54 1.00000000e+00 1.41131231e-12]\n",
      " [2.76597108e-65 1.00000000e+00 5.99641827e-13]\n",
      " [9.99999996e-01 1.21382371e-13 3.84653892e-09]\n",
      " [5.37734892e-61 1.00000000e+00 2.07204678e-13]\n",
      " [1.72676670e-27 1.65290115e-03 9.98347099e-01]\n",
      " [1.00000000e+00 1.32871180e-25 2.52843925e-16]\n",
      " [5.85591098e-43 5.95982996e-02 9.40401700e-01]\n",
      " [6.06690500e-59 1.00000000e+00 1.41945822e-12]\n",
      " [1.00000000e+00 3.54899444e-25 5.27838953e-16]\n",
      " [4.01383392e-53 9.88472003e-01 1.15279966e-02]\n",
      " [1.11822465e-55 1.00000000e+00 1.25000158e-12]\n",
      " [3.73393516e-70 1.00000000e+00 8.09667518e-15]\n",
      " [1.79467654e-63 1.00000000e+00 1.85642444e-13]\n",
      " [1.00000000e+00 3.18116617e-22 1.42353713e-14]\n",
      " [2.38459581e-58 1.00000000e+00 1.39695946e-12]\n",
      " [1.00000000e+00 2.36489205e-23 4.40904044e-15]\n",
      " [7.24815528e-63 1.00000000e+00 2.83502307e-14]\n",
      " [1.88727774e-53 1.00000000e+00 1.94967793e-11]\n",
      " [5.72096538e-46 9.01622466e-01 9.83775341e-02]\n",
      " [1.00000000e+00 8.56840988e-19 1.40954258e-12]\n",
      " [3.06347290e-44 2.44459974e-01 7.55540026e-01]\n",
      " [3.67365611e-59 1.00000000e+00 1.01932259e-12]\n",
      " [4.08730821e-47 1.00000000e+00 1.49602964e-10]\n",
      " [1.00000000e+00 7.68247387e-28 1.31999492e-17]\n",
      " [7.55463087e-50 9.71897171e-01 2.81028287e-02]\n",
      " [4.50653054e-51 9.35966972e-01 6.40330285e-02]\n",
      " [1.34851501e-65 9.99135843e-01 8.64156739e-04]\n",
      " [1.00000000e+00 7.00970980e-24 1.61121193e-15]\n",
      " [1.79549098e-55 1.00000000e+00 2.41774630e-12]\n",
      " [6.95623802e-47 3.41403428e-01 6.58596572e-01]\n",
      " [2.61248993e-64 1.00000000e+00 2.03380843e-13]\n",
      " [5.52341194e-26 2.46905837e-02 9.75309416e-01]\n",
      " [9.41221399e-50 1.00000000e+00 6.48235874e-11]\n",
      " [9.99999993e-01 1.06826801e-12 7.29696487e-09]\n",
      " [9.99999999e-01 3.09608990e-14 8.22832010e-10]\n",
      " [1.53366694e-49 1.00000000e+00 1.46826942e-10]\n",
      " [1.00000000e+00 1.37251920e-26 5.18108507e-17]\n",
      " [1.00000000e+00 2.24426050e-26 7.46227539e-17]\n",
      " [9.99999982e-01 4.53626822e-12 1.84646684e-08]\n",
      " [9.75963889e-54 1.00000000e+00 7.40530545e-11]\n",
      " [4.37969024e-53 1.00000000e+00 2.14882833e-12]\n",
      " [5.43947287e-63 1.00000000e+00 6.48983244e-14]\n",
      " [2.27663487e-43 1.65197628e-02 9.83480237e-01]\n",
      " [9.39227851e-53 1.00000000e+00 3.02954589e-12]\n",
      " [1.00000000e+00 9.80729468e-23 7.15229772e-15]\n",
      " [2.31507590e-71 1.00000000e+00 4.66007818e-15]\n",
      " [3.84667236e-69 1.00000000e+00 5.22479530e-15]\n",
      " [5.98373860e-56 9.93914854e-01 6.08514609e-03]\n",
      " [5.60961017e-41 8.07683505e-04 9.99192316e-01]\n",
      " [3.32136902e-60 1.00000000e+00 7.02215354e-14]\n",
      " [1.00000000e+00 1.16570960e-19 4.69572351e-13]\n",
      " [7.44953311e-63 1.00000000e+00 3.81928662e-14]\n",
      " [1.50746218e-66 1.00000000e+00 1.27153701e-14]\n",
      " [1.09385366e-43 1.10747182e-03 9.98892528e-01]\n",
      " [1.00000000e+00 4.98907089e-17 1.58371364e-11]\n",
      " [1.00000000e+00 1.64963855e-17 8.95709363e-12]\n",
      " [8.02881373e-55 1.00000000e+00 1.90901834e-12]\n",
      " [4.95189406e-46 1.00000000e+00 4.32568914e-11]\n",
      " [4.07138047e-51 1.00000000e+00 5.15445005e-12]\n",
      " [8.82969256e-67 1.00000000e+00 4.33026037e-14]\n",
      " [1.21381996e-64 1.00000000e+00 2.98654921e-14]\n",
      " [6.82555783e-62 1.00000000e+00 4.57513429e-14]\n",
      " [1.00000000e+00 8.03363558e-22 2.39279860e-14]\n",
      " [1.53589707e-41 9.99999997e-01 3.19662007e-09]\n",
      " [2.88761373e-63 1.00000000e+00 1.28545346e-13]\n",
      " [5.09840919e-60 1.00000000e+00 7.47494105e-13]\n",
      " [3.83145029e-57 1.00000000e+00 9.56838163e-13]\n",
      " [1.00000000e+00 3.16727909e-26 1.15270889e-16]\n",
      " [4.37843503e-65 1.00000000e+00 3.89922965e-15]\n",
      " [1.00000000e+00 2.93396269e-18 3.00983998e-12]\n",
      " [8.37263642e-45 3.50271570e-03 9.96497284e-01]\n",
      " [3.07853185e-54 1.00000000e+00 9.08286693e-12]\n",
      " [4.43577674e-67 1.00000000e+00 5.83289294e-15]\n",
      " [3.74721345e-35 7.81557810e-03 9.92184422e-01]\n",
      " [1.00000000e+00 5.76269956e-22 5.74182923e-14]\n",
      " [1.00000000e+00 6.03955655e-25 1.16905884e-15]\n",
      " [1.00000000e+00 2.24875209e-38 1.02479418e-22]\n",
      " [3.69552936e-57 1.00000000e+00 9.61443792e-13]\n",
      " [8.09080432e-51 1.50998805e-01 8.49001195e-01]\n",
      " [1.14924751e-56 1.00000000e+00 7.35686911e-13]\n",
      " [1.00000000e+00 3.11247250e-19 9.41229211e-13]\n",
      " [1.00000000e+00 1.31021570e-29 1.31336848e-18]\n",
      " [2.13730750e-72 1.00000000e+00 1.27582648e-15]\n",
      " [1.00000000e+00 1.35921609e-25 1.84171066e-16]\n",
      " [3.49932228e-69 1.00000000e+00 2.16034684e-15]\n",
      " [5.34482899e-41 7.05901372e-04 9.99294099e-01]\n",
      " [3.47065905e-62 1.00000000e+00 4.54623817e-14]\n",
      " [2.00560477e-51 1.00000000e+00 5.50044519e-12]\n",
      " [1.00000000e+00 5.82636984e-22 2.18191488e-14]\n",
      " [1.03687719e-45 8.75433563e-02 9.12456644e-01]\n",
      " [1.00000000e+00 1.30916542e-20 1.63056125e-13]\n",
      " [2.14542066e-35 6.83387537e-02 9.31661246e-01]\n",
      " [1.00000000e+00 4.26736263e-23 5.35345030e-15]\n",
      " [9.06122775e-69 1.00000000e+00 6.14641105e-15]\n",
      " [2.47722075e-36 1.23786352e-03 9.98762136e-01]\n",
      " [1.00000000e+00 1.83940420e-16 3.47953737e-11]\n",
      " [9.11656197e-45 6.14986532e-01 3.85013468e-01]\n",
      " [3.07928119e-54 5.77547097e-01 4.22452903e-01]\n",
      " [8.55294748e-41 2.76292101e-01 7.23707899e-01]\n",
      " [3.38055674e-44 6.30305319e-01 3.69694681e-01]\n",
      " [1.48094653e-69 1.00000000e+00 5.70261977e-15]\n",
      " [1.14717033e-39 8.99002657e-01 1.00997343e-01]\n",
      " [1.00000000e+00 8.81234279e-23 6.78680456e-15]]\n",
      "r_n shape :  (150, 3)\n"
     ]
    }
   ],
   "source": [
    "r_n = EStep(y, initW, initMu, initCov)\n",
    "print ('r_n : ', r_n)\n",
    "print ('r_n shape : ', r_n.shape)"
   ]
  },
  {
   "cell_type": "code",
   "execution_count": 37,
   "id": "passive-panama",
   "metadata": {},
   "outputs": [
    {
     "name": "stdout",
     "output_type": "stream",
     "text": [
      "wn : \n",
      " [0.34       0.52594435 0.13405566]\n",
      "mu_n : \n",
      " [[37.81258618  4.87902567]\n",
      " [30.10447187 37.19499022]\n",
      " [ 6.86109149 32.58477453]]\n",
      "cov_n : \n",
      " [[[  7.39514236   1.06224675]\n",
      "  [  1.06224675   7.51216764]]\n",
      "\n",
      " [[123.18393978   2.65292859]\n",
      "  [  2.65292859   4.56618695]]\n",
      "\n",
      " [[ 10.65723823  -4.97396335]\n",
      "  [ -4.97396335   5.56542582]]]\n",
      "wn.shape :  (3,)\n",
      "mu_n.shape :  (3, 2)\n",
      "cov_n.shape :  (2, 2, 3)\n"
     ]
    }
   ],
   "source": [
    "w_n,mu_n,cov_n = MStep(r_n, y, initMu, initCov)\n",
    "print ('wn : \\n',w_n)\n",
    "print ('mu_n : \\n',mu_n)\n",
    "print ('cov_n : \\n',cov_n.T)\n",
    "print ('wn.shape : ',w_n.shape)\n",
    "print ('mu_n.shape : ',mu_n.shape)\n",
    "print ('cov_n.shape : ',cov_n.shape)"
   ]
  },
  {
   "cell_type": "markdown",
   "id": "victorian-board",
   "metadata": {},
   "source": [
    "## 4. EM Algorithm\n",
    "- 수렴 조건 : 현재 log likelihood와 이전 log likelihood 차이가 10^(-5) 미만이면 stop"
   ]
  },
  {
   "cell_type": "code",
   "execution_count": 38,
   "id": "arranged-tension",
   "metadata": {
    "scrolled": false
   },
   "outputs": [
    {
     "name": "stdout",
     "output_type": "stream",
     "text": [
      "found larger:  -944.8880343349608\n",
      "found larger:  -943.6039281482466\n",
      "found larger:  -943.0201705282799\n",
      "found larger:  -942.7898730171469\n",
      "found larger:  -942.7093447990576\n",
      "found larger:  -942.6834661603111\n",
      "found larger:  -942.6755750447578\n",
      "found larger:  -942.6732409892027\n",
      "found larger:  -942.6725622536285\n",
      "found larger:  -942.6723667061278\n",
      "found larger:  -942.6723106503608\n",
      "found larger:  -942.6722946247535\n",
      "found larger:  -942.6722900498736\n",
      "found larger:  -942.6722887448797\n",
      "둘 차이가 매우 적음\n",
      "final log likelihood :  -942.6722887448797\n"
     ]
    }
   ],
   "source": [
    "EMiteration = 2000\n",
    "\n",
    "# starting values    \n",
    "r_n = EStep(y, initW, initMu, initCov)\n",
    "w_n,mu_n,cov_n = MStep(r_n, y, initMu, initCov)\n",
    "    \n",
    "logLH = -1000000000000\n",
    "        \n",
    "for i in range(EMiteration):\n",
    "    # E step\n",
    "    r_n = EStep(y, w_n, mu_n,cov_n)\n",
    "\n",
    "    # M step\n",
    "    w_n,mu_n,sigma_n = MStep(r_n, y, mu_n, cov_n)\n",
    "\n",
    "    # log likelihood\n",
    "    logLall = np.zeros((y.shape[0]))\n",
    "\n",
    "    for Object in range(y.shape[0]):\n",
    "        LH = np.zeros(NClasses)\n",
    "\n",
    "        for jClass in range(NClasses):\n",
    "            LH[jClass] = w_n[jClass]* sc.stats.multivariate_normal.pdf(y[Object,:], mu_n[jClass,:], cov_n[:,:,jClass])\n",
    "\n",
    "        logLall[Object] = np.log(np.sum(LH))\n",
    "\n",
    "    logL = np.sum(logLall)\n",
    "\n",
    "    if logL > logLH:\n",
    "        # 수렴조건을 둘 차이가 10^(-4) 미만일때로 설정\n",
    "        if (logL-logLH<10**(-6)):\n",
    "            print('둘 차이가 매우 적음')\n",
    "            break\n",
    "        else :\n",
    "            logLH = logL\n",
    "            print ('found larger: ', logLH)\n",
    "            w_p = w_n\n",
    "            mu_p = mu_n\n",
    "            sigma_p = sigma_n\n",
    "            r_p = r_n\n",
    "print('final log likelihood : ', logLH)"
   ]
  },
  {
   "cell_type": "markdown",
   "id": "falling-sleeping",
   "metadata": {},
   "source": [
    "### EM algorithm 이후 예측된 class 분포"
   ]
  },
  {
   "cell_type": "code",
   "execution_count": 39,
   "id": "funky-vulnerability",
   "metadata": {},
   "outputs": [
    {
     "data": {
      "image/png": "[encoded data removed]",
      "text/plain": [
       "<Figure size 576x576 with 1 Axes>"
      ]
     },
     "metadata": {
      "needs_background": "light"
     },
     "output_type": "display_data"
    }
   ],
   "source": [
    "plotsize = 8\n",
    "sizeMean = 10\n",
    "text_size = 16\n",
    "axis_font = {'size':'24'}\n",
    "Title_font = {'size':'28'}\n",
    "color = ['b', 'g', 'r', 'c', 'm', 'y', 'k']\n",
    "\n",
    "fig = plt.figure()\n",
    "\n",
    "ax = fig.add_subplot(1,1,1)\n",
    "ax.plot(y[:,0],y[:,1], 'k.', markersize=sizeMean, alpha=0.2)\n",
    "for i in range(NClasses):\n",
    "      \n",
    "    # the sd with ellipses\n",
    "    # central point of the error ellipse\n",
    "    pos = [mu_p[i,0],mu_p[i,1]]\n",
    "\n",
    "    # for the angle we need the eigenvectors of the covariance matrix\n",
    "    w,ve = np.linalg.eig(sigma_p[0:2,0:2,i])\n",
    "\n",
    "    # We pick the largest eigen value\n",
    "    order = w.argsort()[::-1]\n",
    "    w = w[order]\n",
    "    ve = ve[:,order]\n",
    "\n",
    "    # we compute the angle towards the eigen vector with the largest eigen value\n",
    "    theta = np.degrees(np.arctan(ve[1,0]/ve[0,0]))\n",
    "\n",
    "    # Compute the width and height of the ellipse based on the eigen values (ie the length of the vectors)\n",
    "    width, height = 2 * np.sqrt(w)\n",
    "\n",
    "    # making the ellipse\n",
    "    ellip = Ellipse(xy=pos, width=width, height=height, angle=theta)\n",
    "    ellip.set_alpha(0.5)\n",
    "    ellip.set_facecolor(color[i])\n",
    "             \n",
    "    ax.add_artist(ellip)\n",
    "        \n",
    "for label in (ax.get_xticklabels() + ax.get_yticklabels()):\n",
    "    label.set_fontname('Arial')\n",
    "    label.set_fontsize(text_size)\n",
    "ax.spines['right'].set_visible(False)\n",
    "ax.spines['top'].set_visible(False)\n",
    "ax.xaxis.set_ticks_position('bottom')\n",
    "ax.yaxis.set_ticks_position('left')\n",
    "ax.set_ylabel('Y', **axis_font)\n",
    "ax.set_xlabel('X', **axis_font)\n",
    "ax.set_title('After EM algorithm, predicted classes', y=1.08, **Title_font)\n",
    "ax.figure.set_size_inches(plotsize,plotsize)\n",
    "\n",
    "plt.show()"
   ]
  },
  {
   "cell_type": "markdown",
   "id": "minute-documentation",
   "metadata": {},
   "source": [
    "## 5. 결과"
   ]
  },
  {
   "cell_type": "markdown",
   "id": "ahead-integrity",
   "metadata": {},
   "source": [
    "### 시행 중에 class가 random 순서로 배정되어서 가장 정확도가 높은 순서로 r_p 정렬하기"
   ]
  },
  {
   "cell_type": "code",
   "execution_count": 40,
   "id": "separate-regulation",
   "metadata": {
    "scrolled": true
   },
   "outputs": [
    {
     "name": "stdout",
     "output_type": "stream",
     "text": [
      "accuracy :  0.96\n",
      "가장 높은 정확도를 가지는 permutation :  (2, 0, 1)\n",
      "예측 class : \n",
      "  [array([3, 3, 2, 1, 3, 2, 3, 2, 2, 1, 3, 1, 3, 2, 2, 2, 1, 1, 3, 2, 3, 1,\n",
      "       3, 3, 2, 2, 2, 2, 2, 1, 2, 2, 3, 2, 3, 1, 3, 2, 3, 3, 3, 3, 2, 2,\n",
      "       3, 2, 3, 3, 3, 2, 3, 1, 2, 1, 3, 2, 3, 3, 3, 3, 2, 3, 2, 3, 3, 1,\n",
      "       2, 1, 3, 3, 2, 1, 1, 3, 2, 3, 1, 3, 1, 3, 2, 2, 3, 2, 2, 2, 3, 3,\n",
      "       3, 1, 3, 2, 3, 3, 3, 1, 3, 2, 3, 3, 1, 2, 2, 3, 3, 3, 3, 3, 3, 2,\n",
      "       3, 3, 3, 3, 2, 3, 2, 1, 3, 3, 1, 2, 2, 2, 3, 1, 3, 2, 2, 3, 2, 3,\n",
      "       1, 3, 3, 2, 1, 2, 1, 2, 3, 1, 2, 1, 1, 1, 1, 3, 1, 2], dtype=int64)]\n"
     ]
    }
   ],
   "source": [
    "a=list(range(NClasses))\n",
    "permute = list(permutations(a,NClasses))\n",
    "permute_=[]\n",
    "acc_list=[]\n",
    "permute_list=[]\n",
    "r_list=[]\n",
    "# 모든 permutation을 고려해 정확도 구하여서 가장 높은 정확도를 가지는 permutation 찾기\n",
    "for i in range(len(permute)):\n",
    "    \n",
    "    Gorder = list(permute[i])\n",
    "    permute_.append(Gorder)\n",
    "    \n",
    "    r_=[]\n",
    "    reorder = r_p[:,Gorder]\n",
    "    inf = np.argmax(reorder, axis=1)\n",
    "    r_.append(inf+1)\n",
    "    \n",
    "    Clust=y_true[:,2]==inf+1\n",
    "    now_acc=np.mean(Clust)\n",
    "    acc_list=np.append(acc_list, now_acc)\n",
    "    permute_list.append(list)\n",
    "    r_list.append(r_)\n",
    "acc=max(acc_list)\n",
    "index=np.argmax(acc_list)\n",
    "print('accuracy : ',acc)\n",
    "print('가장 높은 정확도를 가지는 permutation : ', permute[index])\n",
    "print('예측 class : \\n ',r_list[index])"
   ]
  },
  {
   "cell_type": "markdown",
   "id": "cardiovascular-playing",
   "metadata": {},
   "source": [
    "### mean, 확률, Covariance matrix 정렬"
   ]
  },
  {
   "cell_type": "code",
   "execution_count": 41,
   "id": "fossil-disorder",
   "metadata": {},
   "outputs": [],
   "source": [
    "order = list(permute[index])\n",
    "mu_order=mu_p[order,:]\n",
    "w_order=w_p[order]\n",
    "sigma_order = sigma_p[:,:,order]"
   ]
  },
  {
   "cell_type": "markdown",
   "id": "familiar-nickel",
   "metadata": {},
   "source": [
    "### 예측값과 실제값 비교"
   ]
  },
  {
   "cell_type": "code",
   "execution_count": 42,
   "id": "confused-deficit",
   "metadata": {
    "scrolled": true
   },
   "outputs": [
    {
     "name": "stdout",
     "output_type": "stream",
     "text": [
      "예측 : class 별 선택될 확률:  [0.20005834 0.34       0.45994166]\n",
      "실제 : class 별 선택될 확률  [0.33333333 0.33333333 0.33333333]\n"
     ]
    }
   ],
   "source": [
    "print ('예측 : class 별 선택될 확률: ',w_order)\n",
    "print ('실제 : class 별 선택될 확률 ',alpha)"
   ]
  },
  {
   "cell_type": "code",
   "execution_count": 43,
   "id": "ethical-longer",
   "metadata": {},
   "outputs": [
    {
     "name": "stdout",
     "output_type": "stream",
     "text": [
      "['예측 : class1별 means'] [ 7.41991759 33.59982623]\n",
      "['예측 : class2별 means'] [37.81258621  4.8790257 ]\n",
      "['예측 : class3별 means'] [33.19688065 37.41505534]\n",
      "------------------\n",
      "['실제 : class1별 means'] [ 8.37686321 34.0900392 ]\n",
      "['실제 : class2별 means'] [38.35920748  4.89176829]\n",
      "['실제 : class3별 means'] [35.72596848 37.14536132]\n"
     ]
    }
   ],
   "source": [
    "for i in range(0,NClasses):\n",
    "    print (['예측 : class'+ str(i+1)+'별 means'], mu_order[i,:])\n",
    "print ('------------------')\n",
    "for i in range(0,NClasses):\n",
    "    print (['실제 : class'+ str(i+1)+'별 means'], Mu[i])"
   ]
  },
  {
   "cell_type": "code",
   "execution_count": 44,
   "id": "hispanic-aging",
   "metadata": {},
   "outputs": [
    {
     "name": "stdout",
     "output_type": "stream",
     "text": [
      "['예측 : class1의 variances']\n",
      "[[ 9.34554398 -3.13780594]\n",
      " [-3.13780594  7.03439672]]\n",
      "['예측 : class2의 variances']\n",
      "[[7.39514242 1.06224687]\n",
      " [1.06224687 7.51216774]]\n",
      "['예측 : class3의 variances']\n",
      "[[63.97521806 -1.97296688]\n",
      " [-1.97296688  4.30817028]]\n",
      "------------------\n",
      "['실제 : class1의 variances']\n",
      "[[10.1735151   0.42426091]\n",
      " [ 0.42426091  9.97443803]]\n",
      "['실제 : class2의 variances']\n",
      "[[8.66432542 0.35417165]\n",
      " [0.35417165 8.58652965]]\n",
      "['실제 : class3의 variances']\n",
      "[[2.89931198 0.38851103]\n",
      " [0.38851103 3.42154882]]\n"
     ]
    }
   ],
   "source": [
    "for i in range(0,NClasses):\n",
    "    print (['예측 : class'+ str(i+1)+'의 variances' ])\n",
    "    print (sigma_order[:,:,i])\n",
    "print ('------------------')\n",
    "for i in range(0,NClasses):\n",
    "    print (['실제 : class'+ str(i+1)+'의 variances'])\n",
    "    print (Cov[i])"
   ]
  },
  {
   "cell_type": "markdown",
   "id": "another-knowing",
   "metadata": {},
   "source": [
    "### 실제 class"
   ]
  },
  {
   "cell_type": "code",
   "execution_count": 45,
   "id": "flying-sandwich",
   "metadata": {},
   "outputs": [
    {
     "data": {
      "text/plain": [
       "array([3., 3., 2., 1., 3., 2., 1., 2., 2., 1., 3., 1., 3., 2., 2., 2., 1.,\n",
       "       1., 3., 2., 3., 1., 3., 3., 2., 2., 2., 2., 2., 1., 2., 2., 3., 2.,\n",
       "       3., 1., 1., 2., 3., 3., 1., 3., 2., 2., 3., 2., 3., 3., 3., 2., 3.,\n",
       "       1., 2., 1., 3., 2., 1., 3., 3., 3., 2., 3., 2., 3., 3., 1., 2., 1.,\n",
       "       3., 3., 2., 1., 1., 1., 2., 3., 1., 3., 1., 3., 2., 2., 3., 2., 2.,\n",
       "       2., 3., 3., 3., 1., 3., 2., 3., 3., 1., 1., 3., 2., 3., 3., 1., 2.,\n",
       "       2., 3., 3., 3., 3., 3., 3., 2., 3., 3., 3., 3., 2., 3., 2., 1., 3.,\n",
       "       3., 1., 2., 2., 2., 3., 1., 3., 2., 2., 3., 2., 3., 1., 3., 3., 2.,\n",
       "       1., 2., 1., 2., 3., 1., 2., 1., 1., 1., 1., 3., 1., 2.])"
      ]
     },
     "execution_count": 45,
     "metadata": {},
     "output_type": "execute_result"
    }
   ],
   "source": [
    "y_true[:,2]"
   ]
  },
  {
   "cell_type": "markdown",
   "id": "cordless-league",
   "metadata": {},
   "source": [
    "### 예측 class"
   ]
  },
  {
   "cell_type": "code",
   "execution_count": 46,
   "id": "touched-clock",
   "metadata": {},
   "outputs": [
    {
     "data": {
      "text/plain": [
       "[array([3, 3, 2, 1, 3, 2, 3, 2, 2, 1, 3, 1, 3, 2, 2, 2, 1, 1, 3, 2, 3, 1,\n",
       "        3, 3, 2, 2, 2, 2, 2, 1, 2, 2, 3, 2, 3, 1, 3, 2, 3, 3, 3, 3, 2, 2,\n",
       "        3, 2, 3, 3, 3, 2, 3, 1, 2, 1, 3, 2, 3, 3, 3, 3, 2, 3, 2, 3, 3, 1,\n",
       "        2, 1, 3, 3, 2, 1, 1, 3, 2, 3, 1, 3, 1, 3, 2, 2, 3, 2, 2, 2, 3, 3,\n",
       "        3, 1, 3, 2, 3, 3, 3, 1, 3, 2, 3, 3, 1, 2, 2, 3, 3, 3, 3, 3, 3, 2,\n",
       "        3, 3, 3, 3, 2, 3, 2, 1, 3, 3, 1, 2, 2, 2, 3, 1, 3, 2, 2, 3, 2, 3,\n",
       "        1, 3, 3, 2, 1, 2, 1, 2, 3, 1, 2, 1, 1, 1, 1, 3, 1, 2], dtype=int64)]"
      ]
     },
     "execution_count": 46,
     "metadata": {},
     "output_type": "execute_result"
    }
   ],
   "source": [
    "r_list[index]"
   ]
  },
  {
   "cell_type": "markdown",
   "id": "mental-williams",
   "metadata": {},
   "source": [
    "### 정확도"
   ]
  },
  {
   "cell_type": "code",
   "execution_count": 47,
   "id": "final-doctor",
   "metadata": {
    "scrolled": true
   },
   "outputs": [
    {
     "name": "stdout",
     "output_type": "stream",
     "text": [
      "정확도 :  96.0\n"
     ]
    }
   ],
   "source": [
    "print('정확도 : ', acc*100)"
   ]
  },
  {
   "cell_type": "markdown",
   "id": "referenced-church",
   "metadata": {},
   "source": [
    "## 원래 class, 예측 class 비교"
   ]
  },
  {
   "cell_type": "code",
   "execution_count": 48,
   "id": "enclosed-messaging",
   "metadata": {},
   "outputs": [
    {
     "data": {
      "image/png": "[encoded data removed]",
      "text/plain": [
       "<Figure size 1080x432 with 2 Axes>"
      ]
     },
     "metadata": {
      "needs_background": "light"
     },
     "output_type": "display_data"
    }
   ],
   "source": [
    "fig = plt.figure(figsize=(15,6))\n",
    "ax1=fig.add_subplot(1,2,1)\n",
    "ax2=fig.add_subplot(1,2,2)\n",
    "plotsize=8\n",
    "sizeMean = 10\n",
    "text_size = 16\n",
    "axis_font = {'size':'24'}\n",
    "Title_font = {'size':'28'}\n",
    "color = ['b', 'g', 'r', 'c', 'm', 'y', 'k']\n",
    "\n",
    "for i in range(NClasses):\n",
    "    pos = [Mu[i][0],Mu[i][1]]\n",
    "    w,ve = np.linalg.eig(Cov[i][0:2,0:2])\n",
    "    order = w.argsort()[::-1]\n",
    "    w = w[order]\n",
    "    ve = ve[:,order]\n",
    "    theta = np.degrees(np.arctan(ve[1,0]/ve[0,0]))\n",
    "    width, height = 2 * np.sqrt(w)\n",
    "    ellip = Ellipse(xy=pos, width=width, height=height, angle=theta)\n",
    "    ellip.set_alpha(0.5)\n",
    "    ellip.set_facecolor(color[i])\n",
    "    ax1.plot(data_sample[i][:,0],data_sample[i][:,1], '.', c=color[i], markersize=sizeMean)\n",
    "    ax1.add_artist(ellip)\n",
    "ax1.spines['right'].set_visible(False)\n",
    "ax1.spines['top'].set_visible(False)\n",
    "ax1.xaxis.set_ticks_position('bottom')\n",
    "ax1.yaxis.set_ticks_position('left')\n",
    "ax1.set_ylabel('Y')\n",
    "ax1.set_xlabel('X')\n",
    "ax1.set_title('Original Data')\n",
    "\n",
    "\n",
    "for i in range(NClasses):\n",
    "    pos = [mu_p[i][0],mu_p[i][1]]\n",
    "    w,ve = np.linalg.eig(sigma_p[0:2,0:2,i])\n",
    "    order = w.argsort()[::-1]\n",
    "    w = w[order]\n",
    "    ve = ve[:,order]\n",
    "    theta = np.degrees(np.arctan(ve[1,0]/ve[0,0]))\n",
    "    width, height = 2 * np.sqrt(w)\n",
    "    ellip = Ellipse(xy=pos, width=width, height=height, angle=theta)\n",
    "    ellip.set_alpha(0.5)\n",
    "    ellip.set_facecolor(color[i])\n",
    "    ax2.plot(y[:,0],y[:,1], 'k.', markersize=sizeMean, alpha=0.02)\n",
    "    ax2.add_artist(ellip)\n",
    "ax2.spines['right'].set_visible(False)\n",
    "ax2.spines['top'].set_visible(False)\n",
    "ax2.xaxis.set_ticks_position('bottom')\n",
    "ax2.yaxis.set_ticks_position('left')\n",
    "ax2.set_ylabel('Y')\n",
    "ax2.set_xlabel('X')\n",
    "ax2.set_title('After EM algorithm, predicted classes')\n",
    "plt.show()"
   ]
  },
  {
   "cell_type": "code",
   "execution_count": null,
   "id": "organizational-delhi",
   "metadata": {},
   "outputs": [],
   "source": []
  }
 ],
 "metadata": {
  "kernelspec": {
   "display_name": "Python 3",
   "language": "python",
   "name": "python3"
  },
  "language_info": {
   "codemirror_mode": {
    "name": "ipython",
    "version": 3
   },
   "file_extension": ".py",
   "mimetype": "text/x-python",
   "name": "python",
   "nbconvert_exporter": "python",
   "pygments_lexer": "ipython3",
   "version": "3.8.5"
  }
 },
 "nbformat": 4,
 "nbformat_minor": 5
}
