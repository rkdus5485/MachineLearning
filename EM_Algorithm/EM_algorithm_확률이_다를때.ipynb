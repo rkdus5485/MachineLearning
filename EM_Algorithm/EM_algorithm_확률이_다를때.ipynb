{
 "cells": [
  {
   "cell_type": "markdown",
   "id": "delayed-discount",
   "metadata": {},
   "source": [
    "# EM Algorithm"
   ]
  },
  {
   "cell_type": "code",
   "execution_count": 51,
   "id": "turned-skating",
   "metadata": {},
   "outputs": [],
   "source": [
    "%matplotlib inline\n",
    "import random\n",
    "import numpy as np\n",
    "import matplotlib.pyplot as plt\n",
    "from matplotlib.patches import Ellipse\n",
    "import scipy as sc\n",
    "from scipy import random, linalg, stats, special\n",
    "from itertools import permutations"
   ]
  },
  {
   "cell_type": "markdown",
   "id": "nuclear-rover",
   "metadata": {},
   "source": [
    "## 1. 각 class별로 선택될 확률을 기반으로 sample 뽑기"
   ]
  },
  {
   "cell_type": "markdown",
   "id": "adopted-killing",
   "metadata": {},
   "source": [
    "### symmetric positive definite matrix 만드는 함수"
   ]
  },
  {
   "cell_type": "code",
   "execution_count": 52,
   "id": "cubic-spoke",
   "metadata": {},
   "outputs": [],
   "source": [
    "def makeSDmatrix(n,sd):\n",
    "    M = np.matrix(np.random.rand(n,n))\n",
    "    M = 0.5*(M + M.T)\n",
    "    M = M + sd*np.eye(n)\n",
    "    return M"
   ]
  },
  {
   "cell_type": "markdown",
   "id": "spoken-nation",
   "metadata": {},
   "source": [
    "### class 별 mean, covariacne 설정"
   ]
  },
  {
   "cell_type": "code",
   "execution_count": 53,
   "id": "respected-italic",
   "metadata": {
    "scrolled": false
   },
   "outputs": [
    {
     "name": "stdout",
     "output_type": "stream",
     "text": [
      "Means of the classes\n",
      "['Means for Class 1'] [ 1.17094751 21.0584417 ]\n",
      "['Means for Class 2'] [ 2.38867362 45.85519544]\n",
      "['Means for Class 3'] [42.87002816 27.02341149]\n",
      "\n",
      "\n",
      "Variances of the classes\n",
      "['the variance for Class 1']\n",
      "[[1.99652722 0.11699115]\n",
      " [0.11699115 1.71298774]]\n",
      "['the variance for Class 2']\n",
      "[[4.19954781 0.46361535]\n",
      " [0.46361535 4.63318621]]\n",
      "['the variance for Class 3']\n",
      "[[1.47073602 0.53292803]\n",
      " [0.53292803 1.77324883]]\n"
     ]
    }
   ],
   "source": [
    "# 차원 수\n",
    "Ndim = 2\n",
    "# class 수\n",
    "NClasses = 3\n",
    "# nsample : 전체 데이터 갯수\n",
    "Nsample = 150\n",
    "# class 별 뽑히는 확률 같게 하려면 '1'로 설정\n",
    "same_probability = 0\n",
    "distanceBTWclasses = 15\n",
    "# Mean\n",
    "Mu = [np.random.uniform(0.0, 50.0, Ndim) for i in range(1,NClasses+1)]\n",
    "\n",
    "# Covariance\n",
    "SDClass = np.random.uniform(1.0,10.0,NClasses)\n",
    "#print('SDClass : ',SDClass)\n",
    "Cov = [makeSDmatrix(Ndim,i) for i in SDClass]\n",
    "\n",
    "print ('Means of the classes')\n",
    "for i in range(0,NClasses):\n",
    "    print (['Means for Class ' + str(i+1)], Mu[i])\n",
    "print ('\\n')\n",
    "print('Variances of the classes')\n",
    "for i in range(0,NClasses):\n",
    "    print (['the variance for Class ' + str(i+1)])\n",
    "    print (Cov[i])"
   ]
  },
  {
   "cell_type": "markdown",
   "id": "sitting-charlotte",
   "metadata": {},
   "source": [
    "### Gamma 분포를 통해 클래스 별 선택될 확률 구하기"
   ]
  },
  {
   "cell_type": "code",
   "execution_count": 54,
   "id": "christian-mixer",
   "metadata": {},
   "outputs": [
    {
     "name": "stdout",
     "output_type": "stream",
     "text": [
      "The probabilities of each classes from 1 to 3\n",
      "[0.02348295 0.61392504 0.36259201]\n"
     ]
    }
   ],
   "source": [
    "# 모든 클래스가 선택될 확률을 동일하게\n",
    "if same_probability==1:\n",
    "    alpha = np.repeat(1.0/NClasses,NClasses)\n",
    "# 클래스 별 선택될 확률을 다르게\n",
    "else:\n",
    "    a = np.ones(NClasses)\n",
    "    n = 1\n",
    "    p = len(a)\n",
    "    rd = np.random.gamma(np.repeat(a,n),n,p)\n",
    "    rd = np.divide(rd,np.repeat(np.sum(rd),p))\n",
    "    alpha = rd\n",
    "\n",
    "print ('The probabilities of each classes from 1 to '+str(NClasses))\n",
    "print (alpha)"
   ]
  },
  {
   "cell_type": "markdown",
   "id": "accepting-athletics",
   "metadata": {},
   "source": [
    "### 위에서 구해진 확률에 따라 클래스 별로 sample 갯수 뽑기"
   ]
  },
  {
   "cell_type": "code",
   "execution_count": 55,
   "id": "successful-accessory",
   "metadata": {},
   "outputs": [
    {
     "name": "stdout",
     "output_type": "stream",
     "text": [
      "The number of objects in each classes from 1 to 3\n",
      "[ 2 93 55]\n"
     ]
    }
   ],
   "source": [
    "r = np.random.multinomial(Nsample,alpha)\n",
    "\n",
    "print ('The number of objects in each classes from 1 to '+str(NClasses))\n",
    "print (r)"
   ]
  },
  {
   "cell_type": "markdown",
   "id": "boring-cooler",
   "metadata": {},
   "source": [
    "### Multivariate 정규 분포를 통해 각 클래스별로 sample random으로 뽑기"
   ]
  },
  {
   "cell_type": "code",
   "execution_count": 56,
   "id": "random-average",
   "metadata": {
    "scrolled": false
   },
   "outputs": [
    {
     "data": {
      "text/plain": [
       "[array([[-0.28959281, 21.05385682],\n",
       "        [ 2.93119641, 22.11208731]]),\n",
       " array([[ 3.95059093e+00,  4.38665942e+01],\n",
       "        [ 4.81394426e+00,  4.74085209e+01],\n",
       "        [ 5.26451094e-01,  4.53375690e+01],\n",
       "        [ 3.18997911e+00,  4.52198535e+01],\n",
       "        [ 7.32153510e+00,  4.22623218e+01],\n",
       "        [ 4.49681440e+00,  4.48277347e+01],\n",
       "        [-9.33976062e-01,  4.41463607e+01],\n",
       "        [ 4.68861319e+00,  4.82786827e+01],\n",
       "        [-6.70074252e-03,  4.28342314e+01],\n",
       "        [ 9.41770874e-02,  4.71226688e+01],\n",
       "        [-5.51786142e-01,  4.82303252e+01],\n",
       "        [ 2.11896323e+00,  4.57739965e+01],\n",
       "        [ 2.86236719e+00,  4.33815664e+01],\n",
       "        [ 2.12048560e+00,  4.58927420e+01],\n",
       "        [ 4.10675579e+00,  4.71315773e+01],\n",
       "        [-1.57276265e+00,  4.36647323e+01],\n",
       "        [ 1.26995661e+00,  5.22339137e+01],\n",
       "        [-1.12492015e+00,  4.71607809e+01],\n",
       "        [-1.55370850e-01,  4.19252258e+01],\n",
       "        [ 3.07187589e+00,  4.83775339e+01],\n",
       "        [ 1.48831252e+00,  4.69918133e+01],\n",
       "        [ 6.23180038e+00,  4.78048792e+01],\n",
       "        [ 2.35108158e+00,  4.59083414e+01],\n",
       "        [ 3.18657955e+00,  4.69483727e+01],\n",
       "        [ 3.68247776e+00,  5.07425905e+01],\n",
       "        [ 4.75746355e+00,  4.76106829e+01],\n",
       "        [-8.35531405e-01,  4.22897008e+01],\n",
       "        [ 6.24248355e+00,  4.48246540e+01],\n",
       "        [ 3.21431126e+00,  4.45947671e+01],\n",
       "        [ 1.17270268e+00,  4.47100858e+01],\n",
       "        [ 4.21160807e+00,  4.84461811e+01],\n",
       "        [ 2.02297895e+00,  4.81403451e+01],\n",
       "        [ 1.23907019e+00,  4.49470881e+01],\n",
       "        [ 3.79652845e+00,  4.64220394e+01],\n",
       "        [ 3.41267047e-02,  4.79272145e+01],\n",
       "        [ 7.72846988e-02,  4.68031090e+01],\n",
       "        [ 3.99129116e+00,  4.49131417e+01],\n",
       "        [ 6.80547314e-01,  4.67135768e+01],\n",
       "        [ 5.10950340e+00,  5.36593988e+01],\n",
       "        [ 1.67661545e+00,  4.87874452e+01],\n",
       "        [ 1.01279968e+00,  4.58212622e+01],\n",
       "        [ 1.76498632e+00,  4.46520188e+01],\n",
       "        [ 2.11313267e+00,  4.73477147e+01],\n",
       "        [ 2.29803609e+00,  4.50831375e+01],\n",
       "        [ 2.57434825e+00,  4.82893829e+01],\n",
       "        [ 2.99898840e+00,  4.76627173e+01],\n",
       "        [ 1.35283553e+00,  4.77260808e+01],\n",
       "        [ 4.71415531e+00,  4.67363568e+01],\n",
       "        [ 7.70423553e-02,  4.68059860e+01],\n",
       "        [ 4.63441659e+00,  4.78074056e+01],\n",
       "        [ 3.88962855e+00,  4.67788524e+01],\n",
       "        [ 5.36559928e+00,  4.79968983e+01],\n",
       "        [ 5.08114870e+00,  4.57462819e+01],\n",
       "        [ 1.78146231e+00,  4.55740600e+01],\n",
       "        [ 3.52193459e+00,  4.77454453e+01],\n",
       "        [ 2.20093303e-01,  4.55173402e+01],\n",
       "        [-2.82565305e-01,  4.37290565e+01],\n",
       "        [ 8.39242445e-01,  4.54172578e+01],\n",
       "        [ 3.58838682e+00,  4.82034282e+01],\n",
       "        [ 2.80557006e+00,  4.57295106e+01],\n",
       "        [-1.92998614e-01,  4.33554208e+01],\n",
       "        [ 5.32008385e-01,  4.65058622e+01],\n",
       "        [ 2.00525283e+00,  4.73478489e+01],\n",
       "        [ 1.76680717e+00,  4.98286385e+01],\n",
       "        [ 3.52166654e+00,  4.31827727e+01],\n",
       "        [ 2.92642101e+00,  4.40333168e+01],\n",
       "        [ 3.00176262e+00,  4.45722003e+01],\n",
       "        [ 4.55315590e+00,  4.63837939e+01],\n",
       "        [-6.22936641e-01,  4.75101390e+01],\n",
       "        [ 3.56091306e+00,  4.60593222e+01],\n",
       "        [ 5.58561394e+00,  4.81419513e+01],\n",
       "        [ 3.88608828e+00,  4.63114893e+01],\n",
       "        [ 1.95346145e+00,  4.37064933e+01],\n",
       "        [ 1.18114988e-01,  4.41293911e+01],\n",
       "        [-1.75758342e+00,  4.50710518e+01],\n",
       "        [ 1.66493917e+00,  4.70138789e+01],\n",
       "        [ 1.76206109e+00,  4.35996858e+01],\n",
       "        [ 2.95509880e+00,  4.91140993e+01],\n",
       "        [ 3.32215729e+00,  4.67799635e+01],\n",
       "        [ 1.29881549e+00,  4.69234321e+01],\n",
       "        [ 5.01316676e+00,  4.72860485e+01],\n",
       "        [ 5.01786255e+00,  5.12840293e+01],\n",
       "        [ 3.83974438e+00,  4.87188702e+01],\n",
       "        [ 3.56184625e+00,  4.49401814e+01],\n",
       "        [ 4.32311353e+00,  4.59395737e+01],\n",
       "        [-3.09868801e-01,  4.42449015e+01],\n",
       "        [ 6.35222454e+00,  4.38881268e+01],\n",
       "        [ 3.26850047e+00,  4.97233517e+01],\n",
       "        [ 1.00718741e+00,  4.39542618e+01],\n",
       "        [-2.91536411e+00,  4.40449450e+01],\n",
       "        [ 2.81320172e+00,  4.97472890e+01],\n",
       "        [ 1.02010371e+00,  4.31753673e+01],\n",
       "        [ 5.11609410e+00,  4.54291959e+01]]),\n",
       " array([[43.72369205, 27.80498454],\n",
       "        [43.64278274, 27.72550764],\n",
       "        [43.51244746, 28.43260848],\n",
       "        [43.55116276, 28.17704515],\n",
       "        [44.07409538, 26.68550634],\n",
       "        [43.54215775, 29.43487207],\n",
       "        [43.39480721, 28.830066  ],\n",
       "        [42.08021143, 26.26809557],\n",
       "        [43.74821768, 27.34194092],\n",
       "        [42.0025248 , 22.90304407],\n",
       "        [43.3225767 , 25.01399589],\n",
       "        [41.52363816, 25.10582559],\n",
       "        [42.84637856, 26.40554173],\n",
       "        [42.92639639, 26.40267348],\n",
       "        [41.2736932 , 25.15053079],\n",
       "        [43.02693165, 26.53914537],\n",
       "        [43.93286204, 28.40848795],\n",
       "        [41.78903361, 27.54842625],\n",
       "        [43.04746228, 26.09964041],\n",
       "        [43.70783634, 28.41707713],\n",
       "        [43.77225257, 28.26438779],\n",
       "        [40.51772019, 25.58820389],\n",
       "        [40.5224014 , 25.28263662],\n",
       "        [42.78678209, 25.97104862],\n",
       "        [44.05048208, 26.56256688],\n",
       "        [42.03008704, 27.53887789],\n",
       "        [43.26745473, 28.83054324],\n",
       "        [41.59202493, 27.65149001],\n",
       "        [45.0954242 , 27.34945561],\n",
       "        [42.32640101, 26.53618131],\n",
       "        [43.70170281, 26.95065326],\n",
       "        [42.60363733, 28.85387191],\n",
       "        [43.59224911, 27.08572166],\n",
       "        [41.81779545, 27.88712893],\n",
       "        [43.31767768, 26.8555641 ],\n",
       "        [43.03228215, 26.74454057],\n",
       "        [44.34356542, 28.34773209],\n",
       "        [42.28364751, 26.25955183],\n",
       "        [41.0298194 , 27.74857314],\n",
       "        [44.2322202 , 31.84492895],\n",
       "        [42.01873641, 25.63424343],\n",
       "        [41.35471433, 25.16959281],\n",
       "        [42.25545572, 23.91390701],\n",
       "        [41.41578962, 29.17530085],\n",
       "        [43.56081115, 28.26235245],\n",
       "        [44.74950293, 28.43454656],\n",
       "        [43.97588163, 28.47889953],\n",
       "        [40.76124401, 27.30514092],\n",
       "        [42.61404154, 26.66484141],\n",
       "        [42.57503767, 25.84783529],\n",
       "        [44.0480747 , 27.83147824],\n",
       "        [44.21006781, 27.64169379],\n",
       "        [43.78787608, 27.22806773],\n",
       "        [43.83514968, 24.46297435],\n",
       "        [43.86638187, 28.69797536]])]"
      ]
     },
     "execution_count": 56,
     "metadata": {},
     "output_type": "execute_result"
    }
   ],
   "source": [
    "data_sample = [np.random.multivariate_normal(Mu[i], Cov[i], r[i]) for i in range(0,NClasses)]\n",
    "data_sample"
   ]
  },
  {
   "cell_type": "markdown",
   "id": "opposite-garbage",
   "metadata": {},
   "source": [
    "### 데이터 분포 확인"
   ]
  },
  {
   "cell_type": "code",
   "execution_count": 57,
   "id": "universal-processor",
   "metadata": {},
   "outputs": [
    {
     "data": {
      "image/png": "[encoded data removed]",
      "text/plain": [
       "<Figure size 576x576 with 1 Axes>"
      ]
     },
     "metadata": {
      "needs_background": "light"
     },
     "output_type": "display_data"
    }
   ],
   "source": [
    "plotsize = 8\n",
    "sizeMean = 10\n",
    "text_size = 16\n",
    "axis_font = {'size':'24'}\n",
    "Title_font = {'size':'28'}\n",
    "color = ['b', 'g', 'r', 'c', 'm', 'y', 'k']\n",
    "\n",
    "fig = plt.figure()\n",
    "\n",
    "ax = fig.add_subplot(1,1,1)\n",
    "for i in range(NClasses):\n",
    "      \n",
    "    # the sd with ellipses\n",
    "    # central point of the error ellipse\n",
    "    pos = [Mu[i][0],Mu[i][1]]\n",
    "\n",
    "    # for the angle we need the eigenvectors of the covariance matrix\n",
    "    w,ve = np.linalg.eig(Cov[i][0:2,0:2])\n",
    "\n",
    "    # We pick the largest eigen value\n",
    "    order = w.argsort()[::-1]\n",
    "    w = w[order]\n",
    "    ve = ve[:,order]\n",
    "\n",
    "    # we compute the angle towards the eigen vector with the largest eigen value\n",
    "    theta = np.degrees(np.arctan(ve[1,0]/ve[0,0]))\n",
    "\n",
    "    # Compute the width and height of the ellipse based on the eigen values (ie the length of the vectors)\n",
    "    width, height = 2 * np.sqrt(w)\n",
    "\n",
    "    # making the ellipse\n",
    "    ellip = Ellipse(xy=pos, width=width, height=height, angle=theta)\n",
    "    ellip.set_alpha(0.5)\n",
    "    ellip.set_facecolor(color[i])\n",
    "             \n",
    "    ax.plot(data_sample[i][:,0],data_sample[i][:,1], '.', c=color[i], markersize=sizeMean)\n",
    "    ax.add_artist(ellip)\n",
    "        \n",
    "for label in (ax.get_xticklabels() + ax.get_yticklabels()):\n",
    "    label.set_fontname('Arial')\n",
    "    label.set_fontsize(text_size)\n",
    "ax.spines['right'].set_visible(False)\n",
    "ax.spines['top'].set_visible(False)\n",
    "ax.xaxis.set_ticks_position('bottom')\n",
    "ax.yaxis.set_ticks_position('left')\n",
    "ax.set_ylabel('Y', **axis_font)\n",
    "ax.set_xlabel('X', **axis_font)\n",
    "ax.set_title('Original Data', y=1.08, **Title_font)\n",
    "ax.figure.set_size_inches(plotsize,plotsize)\n",
    "\n",
    "plt.show()"
   ]
  },
  {
   "cell_type": "markdown",
   "id": "democratic-norman",
   "metadata": {},
   "source": [
    "## 2. 데이터 random한 순서로 섞기"
   ]
  },
  {
   "cell_type": "code",
   "execution_count": 58,
   "id": "victorian-fever",
   "metadata": {},
   "outputs": [
    {
     "name": "stdout",
     "output_type": "stream",
     "text": [
      "The data:\n",
      "[[ 3.21431126e+00  4.45947671e+01]\n",
      " [ 3.68247776e+00  5.07425905e+01]\n",
      " [ 3.18997911e+00  4.52198535e+01]\n",
      " [-2.91536411e+00  4.40449450e+01]\n",
      " [ 6.80547314e-01  4.67135768e+01]\n",
      " [ 6.35222454e+00  4.38881268e+01]\n",
      " [ 3.95059093e+00  4.38665942e+01]\n",
      " [ 4.37878761e+01  2.72280677e+01]\n",
      " [ 4.36427827e+01  2.77255076e+01]\n",
      " [ 4.33225767e+01  2.50139959e+01]\n",
      " [ 4.07612440e+01  2.73051409e+01]\n",
      " [ 1.76206109e+00  4.35996858e+01]\n",
      " [ 3.52193459e+00  4.77454453e+01]\n",
      " [ 1.18114988e-01  4.41293911e+01]\n",
      " [ 4.27867821e+01  2.59710486e+01]\n",
      " [ 5.26451094e-01  4.53375690e+01]\n",
      " [ 4.20802114e+01  2.62680956e+01]\n",
      " [ 7.72846988e-02  4.68031090e+01]\n",
      " [ 4.37017028e+01  2.69506533e+01]\n",
      " [ 1.01279968e+00  4.58212622e+01]\n",
      " [ 4.55315590e+00  4.63837939e+01]\n",
      " [ 4.33948072e+01  2.88300660e+01]\n",
      " [ 5.01786255e+00  5.12840293e+01]\n",
      " [ 1.48831252e+00  4.69918133e+01]\n",
      " [ 7.32153510e+00  4.22623218e+01]\n",
      " [-6.70074252e-03  4.28342314e+01]\n",
      " [ 4.10298194e+01  2.77485731e+01]\n",
      " [ 4.29263964e+01  2.64026735e+01]\n",
      " [ 4.50954242e+01  2.73494556e+01]\n",
      " [ 4.30269316e+01  2.65391454e+01]\n",
      " [ 5.01316676e+00  4.72860485e+01]\n",
      " [ 4.17890336e+01  2.75484262e+01]\n",
      " [ 2.29803609e+00  4.50831375e+01]\n",
      " [ 4.10675579e+00  4.71315773e+01]\n",
      " [ 4.38663819e+01  2.86979754e+01]\n",
      " [-1.75758342e+00  4.50710518e+01]\n",
      " [ 4.40480747e+01  2.78314782e+01]\n",
      " [ 1.95346145e+00  4.37064933e+01]\n",
      " [ 4.22554557e+01  2.39139070e+01]\n",
      " [ 9.41770874e-02  4.71226688e+01]\n",
      " [ 4.42100678e+01  2.76416938e+01]\n",
      " [ 4.71415531e+00  4.67363568e+01]\n",
      " [-2.89592810e-01  2.10538568e+01]\n",
      " [ 3.26850047e+00  4.97233517e+01]\n",
      " [ 4.35608112e+01  2.82623525e+01]\n",
      " [ 4.35922491e+01  2.70857217e+01]\n",
      " [ 2.99898840e+00  4.76627173e+01]\n",
      " [ 4.23264010e+01  2.65361813e+01]\n",
      " [ 3.88962855e+00  4.67788524e+01]\n",
      " [ 4.12736932e+01  2.51505308e+01]\n",
      " [ 4.18177954e+01  2.78871289e+01]\n",
      " [ 3.41267047e-02  4.79272145e+01]\n",
      " [ 4.75746355e+00  4.76106829e+01]\n",
      " [ 3.32215729e+00  4.67799635e+01]\n",
      " [ 4.21160807e+00  4.84461811e+01]\n",
      " [ 4.37236920e+01  2.78049845e+01]\n",
      " [ 6.23180038e+00  4.78048792e+01]\n",
      " [ 5.32008385e-01  4.65058622e+01]\n",
      " [ 4.42322202e+01  3.18449290e+01]\n",
      " [ 2.92642101e+00  4.40333168e+01]\n",
      " [ 4.28463786e+01  2.64055417e+01]\n",
      " [ 2.86236719e+00  4.33815664e+01]\n",
      " [ 4.68861319e+00  4.82786827e+01]\n",
      " [ 3.83974438e+00  4.87188702e+01]\n",
      " [ 5.36559928e+00  4.79968983e+01]\n",
      " [ 3.52166654e+00  4.31827727e+01]\n",
      " [ 4.35421577e+01  2.94348721e+01]\n",
      " [ 4.35511628e+01  2.81770451e+01]\n",
      " [ 2.20093303e-01  4.55173402e+01]\n",
      " [ 2.12048560e+00  4.58927420e+01]\n",
      " [ 1.76498632e+00  4.46520188e+01]\n",
      " [ 4.40740954e+01  2.66855063e+01]\n",
      " [ 4.26140415e+01  2.66648414e+01]\n",
      " [ 3.07187589e+00  4.83775339e+01]\n",
      " [-1.57276265e+00  4.36647323e+01]\n",
      " [-1.12492015e+00  4.71607809e+01]\n",
      " [ 1.02010371e+00  4.31753673e+01]\n",
      " [ 3.56091306e+00  4.60593222e+01]\n",
      " [-2.82565305e-01  4.37290565e+01]\n",
      " [ 4.33176777e+01  2.68555641e+01]\n",
      " [ 3.88608828e+00  4.63114893e+01]\n",
      " [ 6.24248355e+00  4.48246540e+01]\n",
      " [-1.92998614e-01  4.33554208e+01]\n",
      " [-9.33976062e-01  4.41463607e+01]\n",
      " [ 5.11609410e+00  4.54291959e+01]\n",
      " [ 4.39328620e+01  2.84084879e+01]\n",
      " [ 4.40504821e+01  2.65625669e+01]\n",
      " [ 3.58838682e+00  4.82034282e+01]\n",
      " [ 4.37078363e+01  2.84170771e+01]\n",
      " [ 4.20025248e+01  2.29030441e+01]\n",
      " [ 4.20300870e+01  2.75388779e+01]\n",
      " [ 4.39758816e+01  2.84788995e+01]\n",
      " [ 4.32311353e+00  4.59395737e+01]\n",
      " [ 2.81320172e+00  4.97472890e+01]\n",
      " [ 4.14157896e+01  2.91753008e+01]\n",
      " [-1.55370850e-01  4.19252258e+01]\n",
      " [ 8.39242445e-01  4.54172578e+01]\n",
      " [ 4.30474623e+01  2.60996404e+01]\n",
      " [ 2.00525283e+00  4.73478489e+01]\n",
      " [-5.51786142e-01  4.82303252e+01]\n",
      " [ 2.95509880e+00  4.91140993e+01]\n",
      " [ 4.37482177e+01  2.73419409e+01]\n",
      " [ 3.56184625e+00  4.49401814e+01]\n",
      " [ 2.93119641e+00  2.21120873e+01]\n",
      " [ 2.57434825e+00  4.82893829e+01]\n",
      " [ 1.26995661e+00  5.22339137e+01]\n",
      " [ 1.76680717e+00  4.98286385e+01]\n",
      " [ 2.11896323e+00  4.57739965e+01]\n",
      " [ 1.35283553e+00  4.77260808e+01]\n",
      " [ 5.58561394e+00  4.81419513e+01]\n",
      " [ 4.22836475e+01  2.62595518e+01]\n",
      " [ 1.17270268e+00  4.47100858e+01]\n",
      " [ 5.10950340e+00  5.36593988e+01]\n",
      " [-3.09868801e-01  4.42449015e+01]\n",
      " [ 4.43435654e+01  2.83477321e+01]\n",
      " [ 1.66493917e+00  4.70138789e+01]\n",
      " [ 1.67661545e+00  4.87874452e+01]\n",
      " [ 4.25750377e+01  2.58478353e+01]\n",
      " [ 4.15920249e+01  2.76514900e+01]\n",
      " [ 2.80557006e+00  4.57295106e+01]\n",
      " [ 4.30322821e+01  2.67445406e+01]\n",
      " [ 2.11313267e+00  4.73477147e+01]\n",
      " [ 4.47495029e+01  2.84345466e+01]\n",
      " [ 4.20187364e+01  2.56342434e+01]\n",
      " [ 4.05177202e+01  2.55882039e+01]\n",
      " [ 1.23907019e+00  4.49470881e+01]\n",
      " [ 4.26036373e+01  2.88538719e+01]\n",
      " [ 4.49681440e+00  4.48277347e+01]\n",
      " [ 2.02297895e+00  4.81403451e+01]\n",
      " [ 4.32674547e+01  2.88305432e+01]\n",
      " [ 2.35108158e+00  4.59083414e+01]\n",
      " [ 7.70423553e-02  4.68059860e+01]\n",
      " [ 1.29881549e+00  4.69234321e+01]\n",
      " [-8.35531405e-01  4.22897008e+01]\n",
      " [ 4.15236382e+01  2.51058256e+01]\n",
      " [ 3.00176262e+00  4.45722003e+01]\n",
      " [ 3.99129116e+00  4.49131417e+01]\n",
      " [ 5.08114870e+00  4.57462819e+01]\n",
      " [ 4.63441659e+00  4.78074056e+01]\n",
      " [ 4.05224014e+01  2.52826366e+01]\n",
      " [ 1.00718741e+00  4.39542618e+01]\n",
      " [ 4.35124475e+01  2.84326085e+01]\n",
      " [ 1.78146231e+00  4.55740600e+01]\n",
      " [-6.22936641e-01  4.75101390e+01]\n",
      " [ 4.38351497e+01  2.44629744e+01]\n",
      " [ 3.79652845e+00  4.64220394e+01]\n",
      " [ 4.13547143e+01  2.51695928e+01]\n",
      " [ 4.37722526e+01  2.82643878e+01]\n",
      " [ 3.18657955e+00  4.69483727e+01]\n",
      " [ 4.81394426e+00  4.74085209e+01]]\n"
     ]
    }
   ],
   "source": [
    "# data를 array로\n",
    "y = np.empty([1, Ndim])\n",
    "for i in range(NClasses):\n",
    "    y = np.vstack((y,data_sample[i]))\n",
    "    \n",
    "y = np.delete(y, 0, axis=0)\n",
    "\n",
    "# 데이터들에 클래스 할당하기\n",
    "v_true = np.zeros((1)) \n",
    "for i,j in enumerate(r):\n",
    "    v_true = np.hstack((v_true, np.repeat(i+1, j)))\n",
    "\n",
    "v_true = np.array([v_true[1:]])\n",
    "y_true = np.concatenate((y, v_true.T), axis=1)\n",
    "\n",
    "# 데이터 섞기\n",
    "np.random.shuffle(y_true)\n",
    "\n",
    "y = y_true[:,0:-1]\n",
    "\n",
    "print ('The data:')\n",
    "print (y)"
   ]
  },
  {
   "cell_type": "code",
   "execution_count": 59,
   "id": "written-privilege",
   "metadata": {},
   "outputs": [
    {
     "data": {
      "image/png": "[encoded data removed]",
      "text/plain": [
       "<Figure size 576x576 with 1 Axes>"
      ]
     },
     "metadata": {
      "needs_background": "light"
     },
     "output_type": "display_data"
    }
   ],
   "source": [
    "plotsize = 8\n",
    "sizeMean = 10\n",
    "text_size = 16\n",
    "axis_font = {'size':'24'}\n",
    "Title_font = {'size':'28'}\n",
    "\n",
    "fig = plt.figure()\n",
    "\n",
    "ax = fig.add_subplot(1,1,1)\n",
    "ax.plot(y[:,0],y[:,1], 'k.', markersize=sizeMean)\n",
    "\n",
    "for label in (ax.get_xticklabels() + ax.get_yticklabels()):\n",
    "    label.set_fontname('Arial')\n",
    "    label.set_fontsize(text_size)\n",
    "ax.spines['right'].set_visible(False)\n",
    "ax.spines['top'].set_visible(False)\n",
    "ax.xaxis.set_ticks_position('bottom')\n",
    "ax.yaxis.set_ticks_position('left')\n",
    "ax.set_ylabel('Y', **axis_font)\n",
    "ax.set_xlabel('X', **axis_font)\n",
    "ax.set_title('After shuffle data plot', y=1.08, **Title_font)\n",
    "ax.figure.set_size_inches(plotsize,plotsize)\n",
    "\n",
    "plt.show()"
   ]
  },
  {
   "cell_type": "markdown",
   "id": "critical-trader",
   "metadata": {},
   "source": [
    "## 3. E-step, M-step 정의"
   ]
  },
  {
   "cell_type": "markdown",
   "id": "suspended-speech",
   "metadata": {},
   "source": [
    "### mean, covariance matrix 초기화"
   ]
  },
  {
   "cell_type": "code",
   "execution_count": 60,
   "id": "regulation-emphasis",
   "metadata": {
    "scrolled": true
   },
   "outputs": [],
   "source": [
    "# 처음 Mean과 Covariance 행렬을 random으로 만들어두고\n",
    "# 초기 확률 w는 위에서 뽑은 class별 선택될 확률과 동일\n",
    "\n",
    "initMu = np.empty([NClasses, Ndim])\n",
    "initCov = np.empty([Ndim, Ndim, NClasses])\n",
    "\n",
    "for j in range(NClasses):\n",
    "    \n",
    "    initMu[j,:] = np.random.uniform(0.0, 50.0, Ndim)\n",
    "    sd = np.random.uniform(1.0,10.0)\n",
    "    initCov[:,:,j] = makeSDmatrix(Ndim,sd)\n",
    "\n",
    "a = np.ones(NClasses)\n",
    "n = 1\n",
    "p = len(a)\n",
    "rd = np.random.gamma(np.repeat(a,n),n,p)\n",
    "rd = np.divide(rd,np.repeat(np.sum(rd),p))\n",
    "initW = rd"
   ]
  },
  {
   "cell_type": "markdown",
   "id": "continuing-planning",
   "metadata": {},
   "source": [
    "### E-step"
   ]
  },
  {
   "cell_type": "code",
   "execution_count": 61,
   "id": "thrown-finish",
   "metadata": {},
   "outputs": [],
   "source": [
    "def EStep(y, w, mu, cov):\n",
    "    \n",
    "    r_ij = np.zeros((y.shape[0], mu.shape[0]))\n",
    "\n",
    "    for Object in range(y.shape[0]):\n",
    "        r_ij_Sumj = np.zeros(mu.shape[0])\n",
    "        \n",
    "        for jClass in range(mu.shape[0]):\n",
    "            r_ij_Sumj[jClass] = w[jClass] * sc.stats.multivariate_normal.pdf(y[Object,:], mu[jClass,:], cov[:,:,jClass])\n",
    "        \n",
    "        for jClass in range(r_ij_Sumj.shape[0]):\n",
    "            r_ij[Object,jClass] =   r_ij_Sumj[jClass] / np.sum(r_ij_Sumj)\n",
    "    \n",
    "    return r_ij"
   ]
  },
  {
   "cell_type": "markdown",
   "id": "abroad-butler",
   "metadata": {},
   "source": [
    "### M-step"
   ]
  },
  {
   "cell_type": "code",
   "execution_count": 62,
   "id": "modern-sympathy",
   "metadata": {},
   "outputs": [],
   "source": [
    "def MStep(r, y, mu, cov):\n",
    "    \n",
    "    N = y.shape[0]\n",
    "    \n",
    "    Allmu_j = np.zeros((N, mu.shape[0], mu.shape[1]))\n",
    "    Allcov_j = np.zeros((N, cov.shape[0], cov.shape[1], cov.shape[2]))\n",
    "    mu_j = np.zeros((mu.shape[0], mu.shape[1]))\n",
    "    cov_j = np.zeros((cov.shape[0], cov.shape[1], cov.shape[2]))\n",
    "    \n",
    "    # weight 업데이트\n",
    "    w_j = np.sum(r, axis=0) / N\n",
    "    \n",
    "    # mean : mu_j\n",
    "    for Object in range(N):\n",
    "        Allmu_j[Object,:,:]=np.asmatrix(r[Object,:]).T*y[Object,:]\n",
    "    \n",
    "    for j in range(cov.shape[2]):\n",
    "        mu_j[j,:] = (np.sum(Allmu_j, axis=0)[j,:])/(np.sum(r, axis=0)[j])\n",
    "        \n",
    "    # covariance : cov_j\n",
    "    for Object in range(N):\n",
    "        for j in range(cov.shape[2]):\n",
    "            Allcov_j[Object,:,:,j] = r[Object,j] *np.asmatrix(y[Object,:]-mu_j[j,:]).T*np.asmatrix(y[Object,:]-mu_j[j,:])\n",
    "            \n",
    "    for j in range(cov.shape[2]):\n",
    "        cov_j[:,:,j] = (np.sum(Allcov_j, axis=0)[:,:,j])/(np.sum(r,axis=0)[j])\n",
    "    \n",
    "    return w_j,mu_j,cov_j"
   ]
  },
  {
   "cell_type": "markdown",
   "id": "narrative-observation",
   "metadata": {},
   "source": [
    "### 1번 실행해 보기"
   ]
  },
  {
   "cell_type": "code",
   "execution_count": 63,
   "id": "statewide-salem",
   "metadata": {
    "scrolled": true
   },
   "outputs": [
    {
     "name": "stdout",
     "output_type": "stream",
     "text": [
      "r_n :  [[3.68825545e-176 1.00000000e+000 2.41761477e-028]\n",
      " [8.93452430e-216 1.00000000e+000 2.41043453e-028]\n",
      " [1.61200459e-180 1.00000000e+000 2.02682638e-028]\n",
      " [9.42265679e-236 1.00000000e+000 2.12031884e-039]\n",
      " [4.35295792e-216 1.00000000e+000 5.66517558e-033]\n",
      " [2.75561721e-143 1.00000000e+000 3.77125422e-023]\n",
      " [1.40287334e-164 1.00000000e+000 4.49909246e-027]\n",
      " [5.27380584e-015 8.02208329e-006 9.99991978e-001]\n",
      " [4.88844450e-014 3.84062221e-006 9.99996159e-001]\n",
      " [7.43443569e-016 4.19163871e-004 9.99580836e-001]\n",
      " [3.84392363e-005 3.82742362e-005 9.99923287e-001]\n",
      " [9.68421430e-184 1.00000000e+000 8.19126294e-031]\n",
      " [8.07962904e-195 1.00000000e+000 4.22837562e-028]\n",
      " [8.47822866e-204 1.00000000e+000 9.25834624e-034]\n",
      " [9.42026642e-013 1.03125574e-004 9.99896874e-001]\n",
      " [7.01161538e-208 1.00000000e+000 4.15756537e-033]\n",
      " [4.77899817e-010 9.09019756e-005 9.99909098e-001]\n",
      " [4.26122441e-223 1.00000000e+000 4.41942219e-034]\n",
      " [5.75509280e-015 1.31149523e-005 9.99986885e-001]\n",
      " [2.91121903e-206 1.00000000e+000 2.80838925e-032]\n",
      " [1.96564995e-175 1.00000000e+000 3.33265559e-026]\n",
      " [2.22225378e-012 7.74034658e-007 9.99999226e-001]\n",
      " [8.55966146e-207 1.00000000e+000 3.52064756e-026]\n",
      " [9.53633160e-210 1.00000000e+000 1.47150019e-031]\n",
      " [9.94696272e-126 1.00000000e+000 1.16757223e-021]\n",
      " [1.66691500e-196 1.00000000e+000 6.16053249e-034]\n",
      " [1.20880372e-005 1.59771567e-005 9.99971935e-001]\n",
      " [8.90133817e-013 4.66130870e-005 9.99953387e-001]\n",
      " [8.66361705e-020 3.97498848e-006 9.99996025e-001]\n",
      " [5.48537532e-013 3.53634877e-005 9.99964637e-001]\n",
      " [2.50258974e-177 1.00000000e+000 1.58501754e-025]\n",
      " [4.80211967e-008 1.35265084e-005 9.99986425e-001]\n",
      " [2.87453704e-188 1.00000000e+000 5.98311051e-030]\n",
      " [8.30005430e-185 1.00000000e+000 4.98386145e-027]\n",
      " [4.49227027e-014 7.57874261e-007 9.99999242e-001]\n",
      " [2.70633952e-230 1.00000000e+000 2.73275800e-037]\n",
      " [2.17102713e-015 2.71379127e-006 9.99997286e-001]\n",
      " [1.48103346e-182 1.00000000e+000 1.75501622e-030]\n",
      " [1.64729886e-013 4.94730019e-003 9.95052700e-001]\n",
      " [2.79880061e-225 1.00000000e+000 4.29981354e-034]\n",
      " [3.78372373e-016 3.43681723e-006 9.99996563e-001]\n",
      " [2.48661562e-176 1.00000000e+000 5.74183577e-026]\n",
      " [2.89816571e-110 1.00000000e+000 1.47383648e-040]\n",
      " [4.93222676e-212 1.00000000e+000 7.41520463e-029]\n",
      " [2.51485123e-013 1.71177735e-006 9.99998288e-001]\n",
      " [1.93411109e-014 1.10341828e-005 9.99988966e-001]\n",
      " [2.26453187e-199 1.00000000e+000 5.43639774e-029]\n",
      " [1.32787449e-010 5.09362783e-005 9.99949064e-001]\n",
      " [2.00167385e-184 1.00000000e+000 2.33156777e-027]\n",
      " [1.36003118e-008 9.61381069e-004 9.99038605e-001]\n",
      " [6.58730441e-008 7.82244140e-006 9.99992112e-001]\n",
      " [5.68434577e-232 1.00000000e+000 2.52855252e-034]\n",
      " [5.40445911e-182 1.00000000e+000 5.44986698e-026]\n",
      " [6.53652682e-190 1.00000000e+000 2.50687766e-028]\n",
      " [3.46848488e-193 1.00000000e+000 5.06791502e-027]\n",
      " [2.95967158e-014 3.26243925e-006 9.99996738e-001]\n",
      " [9.90833052e-170 1.00000000e+000 1.38835377e-023]\n",
      " [3.92060460e-216 1.00000000e+000 3.23294577e-033]\n",
      " [4.63504358e-014 6.94674774e-009 9.99999993e-001]\n",
      " [2.89596018e-175 1.00000000e+000 8.20798139e-029]\n",
      " [1.69874482e-012 4.82658063e-005 9.99951734e-001]\n",
      " [1.00541379e-171 1.00000000e+000 6.61934352e-029]\n",
      " [2.12782234e-187 1.00000000e+000 3.42032492e-026]\n",
      " [8.35776087e-199 1.00000000e+000 1.07036788e-027]\n",
      " [5.08940730e-179 1.00000000e+000 5.01122308e-025]\n",
      " [2.72886008e-164 1.00000000e+000 8.75086397e-028]\n",
      " [1.55935946e-012 2.90431798e-007 9.99999710e-001]\n",
      " [2.34556059e-013 1.96445918e-006 9.99998036e-001]\n",
      " [2.51197784e-212 1.00000000e+000 1.11835045e-033]\n",
      " [1.46528545e-195 1.00000000e+000 2.53004579e-030]\n",
      " [1.22626321e-190 1.00000000e+000 7.45097381e-031]\n",
      " [1.30435176e-016 1.73840076e-005 9.99982616e-001]\n",
      " [1.91187283e-011 3.53676665e-005 9.99964632e-001]\n",
      " [7.12907580e-204 1.00000000e+000 5.74271900e-029]\n",
      " [1.91671632e-218 1.00000000e+000 7.69517600e-037]\n",
      " [0.00000000e+000 1.00000000e+000 2.35146180e-036]\n",
      " [2.41804740e-188 1.00000000e+000 4.15334448e-032]\n",
      " [1.26844549e-182 1.00000000e+000 7.53043132e-028]\n",
      " [2.98549866e-205 1.00000000e+000 1.81895192e-034]\n",
      " [1.08660090e-013 1.82508839e-005 9.99981749e-001]\n",
      " [3.08313748e-181 1.00000000e+000 2.55229036e-027]\n",
      " [5.39128922e-150 1.00000000e+000 2.41258163e-023]\n",
      " [7.82401427e-202 1.00000000e+000 2.74147068e-034]\n",
      " [6.29936858e-215 1.00000000e+000 1.10434087e-035]\n",
      " [6.82587157e-164 1.00000000e+000 3.35587600e-025]\n",
      " [1.63370791e-014 1.15049071e-006 9.99998850e-001]\n",
      " [1.16809377e-016 2.15527562e-005 9.99978447e-001]\n",
      " [1.73671435e-197 1.00000000e+000 4.74956282e-028]\n",
      " [1.01238356e-013 1.25680086e-006 9.99998743e-001]\n",
      " [3.60267053e-014 3.52721896e-002 9.64727810e-001]\n",
      " [8.35127631e-009 1.19104757e-005 9.99988081e-001]\n",
      " [1.29980430e-014 1.01192585e-006 9.99998988e-001]\n",
      " [1.37431917e-174 1.00000000e+000 1.49433709e-026]\n",
      " [7.93132950e-217 1.00000000e+000 1.17673143e-029]\n",
      " [4.34011023e-006 1.43822074e-006 9.99994222e-001]\n",
      " [3.28225039e-192 1.00000000e+000 3.37695226e-034]\n",
      " [3.25447906e-205 1.00000000e+000 1.49406000e-032]\n",
      " [1.58488372e-013 7.30843052e-005 9.99926916e-001]\n",
      " [4.66639460e-207 1.00000000e+000 1.09306337e-030]\n",
      " [0.00000000e+000 1.00000000e+000 1.85820747e-035]\n",
      " [1.49972614e-210 1.00000000e+000 2.72408843e-029]\n",
      " [9.38768174e-015 6.78481118e-006 9.99993215e-001]\n",
      " [4.02749358e-175 1.00000000e+000 9.05330412e-028]\n",
      " [1.51101542e-087 1.00000000e+000 9.70995993e-035]\n",
      " [3.26284485e-208 1.00000000e+000 8.03544342e-030]\n",
      " [0.00000000e+000 1.00000000e+000 5.39067698e-033]\n",
      " [2.82867743e-228 1.00000000e+000 1.58603435e-031]\n",
      " [9.39497363e-195 1.00000000e+000 2.57648959e-030]\n",
      " [1.56520684e-216 1.00000000e+000 6.69804891e-032]\n",
      " [5.29988469e-178 1.00000000e+000 1.10781471e-024]\n",
      " [9.91264298e-011 8.24615645e-005 9.99917538e-001]\n",
      " [5.84294596e-197 1.00000000e+000 6.64637290e-032]\n",
      " [4.28541830e-225 1.00000000e+000 1.25779420e-026]\n",
      " [4.98391421e-209 1.00000000e+000 1.52142724e-034]\n",
      " [5.00427619e-016 1.06172008e-006 9.99998938e-001]\n",
      " [4.23508159e-208 1.00000000e+000 3.01330583e-031]\n",
      " [3.69404427e-221 1.00000000e+000 1.71744256e-031]\n",
      " [3.73848212e-012 1.41379668e-004 9.99858620e-001]\n",
      " [2.26606147e-007 1.29691801e-005 9.99986804e-001]\n",
      " [1.11163141e-187 1.00000000e+000 4.06294980e-029]\n",
      " [8.42941784e-013 2.51145110e-005 9.99974885e-001]\n",
      " [5.80169462e-206 1.00000000e+000 1.69405609e-030]\n",
      " [1.90897724e-017 7.89834023e-007 9.99999210e-001]\n",
      " [1.68617876e-010 2.73203035e-004 9.99726797e-001]\n",
      " [8.48415588e-006 7.39123856e-004 9.99252392e-001]\n",
      " [6.69761667e-198 1.00000000e+000 8.40500889e-032]\n",
      " [8.59523001e-010 1.13011383e-006 9.99998869e-001]\n",
      " [1.16229449e-165 1.00000000e+000 3.40729031e-026]\n",
      " [1.04029154e-212 1.00000000e+000 9.05442558e-031]\n",
      " [5.91072966e-012 8.24046483e-007 9.99999176e-001]\n",
      " [2.23189136e-193 1.00000000e+000 6.37936367e-030]\n",
      " [4.03452266e-223 1.00000000e+000 4.41112549e-034]\n",
      " [3.37053294e-211 1.00000000e+000 6.89043573e-032]\n",
      " [1.60032949e-201 1.00000000e+000 1.95789769e-035]\n",
      " [1.87231021e-009 8.95320924e-004 9.99104677e-001]\n",
      " [4.82477005e-178 1.00000000e+000 1.05008520e-028]\n",
      " [6.64855116e-171 1.00000000e+000 4.82195977e-027]\n",
      " [2.74445141e-166 1.00000000e+000 2.80885580e-025]\n",
      " [1.51151154e-184 1.00000000e+000 3.20561881e-026]\n",
      " [4.11289660e-006 1.23503293e-003 9.98760854e-001]\n",
      " [1.45268764e-193 1.00000000e+000 3.71068435e-032]\n",
      " [4.88318908e-013 1.34465374e-006 9.99998655e-001]\n",
      " [9.61008385e-197 1.00000000e+000 6.84603811e-031]\n",
      " [5.29376400e-236 1.00000000e+000 1.79782567e-035]\n",
      " [1.37040506e-018 9.05241375e-004 9.99094759e-001]\n",
      " [7.51529174e-183 1.00000000e+000 1.75740413e-027]\n",
      " [7.83347235e-009 8.86200797e-004 9.99113791e-001]\n",
      " [4.65804946e-014 1.54757092e-006 9.99998452e-001]\n",
      " [2.03280527e-192 1.00000000e+000 1.40450281e-028]\n",
      " [4.80410947e-180 1.00000000e+000 7.15374232e-026]]\n",
      "r_n shape :  (150, 3)\n"
     ]
    }
   ],
   "source": [
    "r_n = EStep(y, initW, initMu, initCov)\n",
    "print ('r_n : ', r_n)\n",
    "print ('r_n shape : ', r_n.shape)"
   ]
  },
  {
   "cell_type": "code",
   "execution_count": 64,
   "id": "passive-panama",
   "metadata": {},
   "outputs": [
    {
     "name": "stdout",
     "output_type": "stream",
     "text": [
      "wn : \n",
      " [4.52255808e-07 6.33649985e-01 3.66349563e-01]\n",
      "mu_n : \n",
      " [[40.81095988 27.16764443]\n",
      " [ 2.41515228 45.77559531]\n",
      " [42.93924518 27.12318929]]\n",
      "cov_n : \n",
      " [[[ 0.0531815   0.18932456]\n",
      "  [ 0.18932456  0.85898333]]\n",
      "\n",
      " [[ 5.11794862  1.31620405]\n",
      "  [ 1.31620405 17.57430143]]\n",
      "\n",
      " [[ 1.21044239  0.71079815]\n",
      "  [ 0.71079815  2.31361742]]]\n",
      "wn.shape :  (3,)\n",
      "mu_n.shape :  (3, 2)\n",
      "cov_n.shape :  (2, 2, 3)\n"
     ]
    }
   ],
   "source": [
    "w_n,mu_n,cov_n = MStep(r_n, y, initMu, initCov)\n",
    "print ('wn : \\n',w_n)\n",
    "print ('mu_n : \\n',mu_n)\n",
    "print ('cov_n : \\n',cov_n.T)\n",
    "print ('wn.shape : ',w_n.shape)\n",
    "print ('mu_n.shape : ',mu_n.shape)\n",
    "print ('cov_n.shape : ',cov_n.shape)"
   ]
  },
  {
   "cell_type": "markdown",
   "id": "victorian-board",
   "metadata": {},
   "source": [
    "## 4. EM Algorithm\n",
    "- 수렴 조건 : 현재 log likelihood와 이전 log likelihood 차이가 10^(-5) 미만이면 stop"
   ]
  },
  {
   "cell_type": "code",
   "execution_count": 65,
   "id": "arranged-tension",
   "metadata": {
    "scrolled": false
   },
   "outputs": [
    {
     "name": "stdout",
     "output_type": "stream",
     "text": [
      "found larger:  -751.3148533942614\n",
      "found larger:  -751.3082234818914\n",
      "found larger:  -751.2731308343818\n",
      "found larger:  -751.0965877395004\n",
      "found larger:  -750.3916314030369\n",
      "found larger:  -748.907005139253\n",
      "found larger:  -747.7224546550887\n",
      "found larger:  -747.2855459214243\n",
      "found larger:  -747.1265973312418\n",
      "found larger:  -747.0688586409801\n",
      "found larger:  -747.0513908397127\n",
      "found larger:  -747.0462688824348\n",
      "found larger:  -747.0446641610149\n",
      "found larger:  -747.0441300423702\n",
      "found larger:  -747.0439461142075\n",
      "found larger:  -747.0438816693639\n",
      "found larger:  -747.0438588829217\n",
      "found larger:  -747.0438507855796\n",
      "found larger:  -747.0438478998551\n",
      "found larger:  -747.0438468697154\n",
      "둘 차이가 매우 적음\n",
      "final log likelihood :  -747.0438468697154\n"
     ]
    }
   ],
   "source": [
    "EMiteration = 2000\n",
    "\n",
    "# starting values    \n",
    "r_n = EStep(y, initW, initMu, initCov)\n",
    "w_n,mu_n,cov_n = MStep(r_n, y, initMu, initCov)\n",
    "    \n",
    "logLH = -1000000000000\n",
    "        \n",
    "for i in range(EMiteration):\n",
    "    # E step\n",
    "    r_n = EStep(y, w_n, mu_n,cov_n)\n",
    "\n",
    "    # M step\n",
    "    w_n,mu_n,sigma_n = MStep(r_n, y, mu_n, cov_n)\n",
    "\n",
    "    # log likelihood\n",
    "    logLall = np.zeros((y.shape[0]))\n",
    "\n",
    "    for Object in range(y.shape[0]):\n",
    "        LH = np.zeros(NClasses)\n",
    "\n",
    "        for jClass in range(NClasses):\n",
    "            LH[jClass] = w_n[jClass] * sc.stats.multivariate_normal.pdf(y[Object,:], mu_n[jClass,:], cov_n[:,:,jClass])\n",
    "\n",
    "        logLall[Object] = np.log(np.sum(LH))\n",
    "\n",
    "    logL = np.sum(logLall)\n",
    "\n",
    "    if logL > logLH:\n",
    "        # 수렴조건을 둘 차이가 10^(-4) 미만일때로 설정\n",
    "        if (logL-logLH<10**(-6)):\n",
    "            print('둘 차이가 매우 적음')\n",
    "            break\n",
    "        else :\n",
    "            logLH = logL\n",
    "            print ('found larger: ', logLH)\n",
    "            w_p = w_n\n",
    "            mu_p = mu_n\n",
    "            sigma_p = sigma_n\n",
    "            r_p = r_n\n",
    "print('final log likelihood : ', logLH)"
   ]
  },
  {
   "cell_type": "markdown",
   "id": "falling-sleeping",
   "metadata": {},
   "source": [
    "### EM algorithm 이후 예측된 class 분포"
   ]
  },
  {
   "cell_type": "code",
   "execution_count": 66,
   "id": "funky-vulnerability",
   "metadata": {},
   "outputs": [
    {
     "data": {
      "image/png": "[encoded data removed]",
      "text/plain": [
       "<Figure size 576x576 with 1 Axes>"
      ]
     },
     "metadata": {
      "needs_background": "light"
     },
     "output_type": "display_data"
    }
   ],
   "source": [
    "plotsize = 8\n",
    "sizeMean = 10\n",
    "text_size = 16\n",
    "axis_font = {'size':'24'}\n",
    "Title_font = {'size':'28'}\n",
    "color = ['b', 'g', 'r', 'c', 'm', 'y', 'k']\n",
    "\n",
    "fig = plt.figure()\n",
    "\n",
    "ax = fig.add_subplot(1,1,1)\n",
    "ax.plot(y[:,0],y[:,1], 'k.', markersize=sizeMean, alpha=0.2)\n",
    "for i in range(NClasses):\n",
    "      \n",
    "    # the sd with ellipses\n",
    "    # central point of the error ellipse\n",
    "    pos = [mu_p[i,0],mu_p[i,1]]\n",
    "\n",
    "    # for the angle we need the eigenvectors of the covariance matrix\n",
    "    w,ve = np.linalg.eig(sigma_p[0:2,0:2,i])\n",
    "\n",
    "    # We pick the largest eigen value\n",
    "    order = w.argsort()[::-1]\n",
    "    w = w[order]\n",
    "    ve = ve[:,order]\n",
    "\n",
    "    # we compute the angle towards the eigen vector with the largest eigen value\n",
    "    theta = np.degrees(np.arctan(ve[1,0]/ve[0,0]))\n",
    "\n",
    "    # Compute the width and height of the ellipse based on the eigen values (ie the length of the vectors)\n",
    "    width, height = 2 * np.sqrt(w)\n",
    "\n",
    "    # making the ellipse\n",
    "    ellip = Ellipse(xy=pos, width=width, height=height, angle=theta)\n",
    "    ellip.set_alpha(0.5)\n",
    "    ellip.set_facecolor(color[i])\n",
    "             \n",
    "    ax.add_artist(ellip)\n",
    "        \n",
    "for label in (ax.get_xticklabels() + ax.get_yticklabels()):\n",
    "    label.set_fontname('Arial')\n",
    "    label.set_fontsize(text_size)\n",
    "ax.spines['right'].set_visible(False)\n",
    "ax.spines['top'].set_visible(False)\n",
    "ax.xaxis.set_ticks_position('bottom')\n",
    "ax.yaxis.set_ticks_position('left')\n",
    "ax.set_ylabel('Y', **axis_font)\n",
    "ax.set_xlabel('X', **axis_font)\n",
    "ax.set_title('After EM algorithm, predicted classes', y=1.08, **Title_font)\n",
    "ax.figure.set_size_inches(plotsize,plotsize)\n",
    "\n",
    "plt.show()"
   ]
  },
  {
   "cell_type": "markdown",
   "id": "minute-documentation",
   "metadata": {},
   "source": [
    "## 5. 결과"
   ]
  },
  {
   "cell_type": "markdown",
   "id": "ahead-integrity",
   "metadata": {},
   "source": [
    "### 시행 중에 class가 random 순서로 배정되어서 가장 정확도가 높은 순서로 r_p 정렬하기"
   ]
  },
  {
   "cell_type": "code",
   "execution_count": 67,
   "id": "separate-regulation",
   "metadata": {
    "scrolled": true
   },
   "outputs": [
    {
     "name": "stdout",
     "output_type": "stream",
     "text": [
      "accuracy :  0.9533333333333334\n",
      "가장 높은 정확도를 가지는 permutation :  (0, 1, 2)\n",
      "예측 class : \n",
      "  [array([2, 2, 2, 2, 2, 2, 2, 3, 3, 3, 1, 2, 2, 2, 3, 2, 3, 2, 3, 2, 2, 3,\n",
      "       2, 2, 2, 2, 1, 3, 3, 3, 2, 3, 2, 2, 3, 2, 3, 2, 3, 2, 3, 2, 2, 2,\n",
      "       3, 3, 2, 3, 2, 3, 3, 2, 2, 2, 2, 3, 2, 2, 3, 2, 3, 2, 2, 2, 2, 2,\n",
      "       3, 3, 2, 2, 2, 3, 3, 2, 2, 2, 2, 2, 2, 3, 2, 2, 2, 2, 2, 3, 3, 2,\n",
      "       3, 3, 3, 3, 2, 2, 1, 2, 2, 3, 2, 2, 2, 3, 2, 2, 2, 2, 2, 2, 2, 2,\n",
      "       3, 2, 2, 2, 3, 2, 2, 3, 3, 2, 3, 2, 3, 3, 1, 2, 3, 2, 2, 3, 2, 2,\n",
      "       2, 2, 3, 2, 2, 2, 2, 1, 2, 3, 2, 2, 3, 2, 3, 3, 2, 2], dtype=int64)]\n"
     ]
    }
   ],
   "source": [
    "a=list(range(NClasses))\n",
    "permute = list(permutations(a,NClasses))\n",
    "permute_=[]\n",
    "acc_list=[]\n",
    "permute_list=[]\n",
    "r_list=[]\n",
    "# 모든 permutation을 고려해 정확도 구하여서 가장 높은 정확도를 가지는 permutation 찾기\n",
    "for i in range(len(permute)):\n",
    "    \n",
    "    Gorder = list(permute[i])\n",
    "    permute_.append(Gorder)\n",
    "    \n",
    "    r_=[]\n",
    "    reorder = r_p[:,Gorder]\n",
    "    inf = np.argmax(reorder, axis=1)\n",
    "    r_.append(inf+1)\n",
    "    \n",
    "    Clust=y_true[:,2]==inf+1\n",
    "    now_acc=np.mean(Clust)\n",
    "    acc_list=np.append(acc_list, now_acc)\n",
    "    permute_list.append(list)\n",
    "    r_list.append(r_)\n",
    "acc=max(acc_list)\n",
    "index=np.argmax(acc_list)\n",
    "print('accuracy : ',acc)\n",
    "print('가장 높은 정확도를 가지는 permutation : ', permute[index])\n",
    "print('예측 class : \\n ',r_list[index])"
   ]
  },
  {
   "cell_type": "markdown",
   "id": "cardiovascular-playing",
   "metadata": {},
   "source": [
    "### mean, 확률, Covariance matrix 정렬"
   ]
  },
  {
   "cell_type": "code",
   "execution_count": 68,
   "id": "fossil-disorder",
   "metadata": {},
   "outputs": [],
   "source": [
    "order = list(permute[index])\n",
    "mu_order=mu_p[order,:]\n",
    "w_order=w_p[order]\n",
    "sigma_order = sigma_p[:,:,order]"
   ]
  },
  {
   "cell_type": "markdown",
   "id": "familiar-nickel",
   "metadata": {},
   "source": [
    "### 예측값과 실제값 비교"
   ]
  },
  {
   "cell_type": "code",
   "execution_count": 69,
   "id": "confused-deficit",
   "metadata": {
    "scrolled": true
   },
   "outputs": [
    {
     "name": "stdout",
     "output_type": "stream",
     "text": [
      "예측 : class 별 선택될 확률:  [0.02714704 0.63333333 0.33951963]\n",
      "실제 : class 별 선택될 확률  [0.02348295 0.61392504 0.36259201]\n"
     ]
    }
   ],
   "source": [
    "print ('예측 : class 별 선택될 확률: ',w_order)\n",
    "print ('실제 : class 별 선택될 확률 ',alpha)"
   ]
  },
  {
   "cell_type": "code",
   "execution_count": 70,
   "id": "ethical-longer",
   "metadata": {},
   "outputs": [
    {
     "name": "stdout",
     "output_type": "stream",
     "text": [
      "['예측 : class1별 means'] [40.82344854 26.93725977]\n",
      "['예측 : class2별 means'] [ 2.39536533 45.78679359]\n",
      "['예측 : class3별 means'] [43.10753113 27.13456277]\n",
      "------------------\n",
      "['실제 : class1별 means'] [ 1.17094751 21.0584417 ]\n",
      "['실제 : class2별 means'] [ 2.38867362 45.85519544]\n",
      "['실제 : class3별 means'] [42.87002816 27.02341149]\n"
     ]
    }
   ],
   "source": [
    "for i in range(0,NClasses):\n",
    "    print (['예측 : class'+ str(i+1)+'별 means'], mu_order[i,:])\n",
    "print ('------------------')\n",
    "for i in range(0,NClasses):\n",
    "    print (['실제 : class'+ str(i+1)+'별 means'], Mu[i])"
   ]
  },
  {
   "cell_type": "code",
   "execution_count": 71,
   "id": "hispanic-aging",
   "metadata": {},
   "outputs": [
    {
     "name": "stdout",
     "output_type": "stream",
     "text": [
      "['예측 : class1의 variances']\n",
      "[[0.10061263 0.41557355]\n",
      " [0.41557355 1.84278153]]\n",
      "['예측 : class2의 variances']\n",
      "[[ 4.33692158  1.76030358]\n",
      " [ 1.76030358 17.33173497]]\n",
      "['예측 : class3의 variances']\n",
      "[[0.91284305 0.70361167]\n",
      " [0.70361167 2.36006274]]\n",
      "------------------\n",
      "['실제 : class1의 variances']\n",
      "[[1.99652722 0.11699115]\n",
      " [0.11699115 1.71298774]]\n",
      "['실제 : class2의 variances']\n",
      "[[4.19954781 0.46361535]\n",
      " [0.46361535 4.63318621]]\n",
      "['실제 : class3의 variances']\n",
      "[[1.47073602 0.53292803]\n",
      " [0.53292803 1.77324883]]\n"
     ]
    }
   ],
   "source": [
    "for i in range(0,NClasses):\n",
    "    print (['예측 : class'+ str(i+1)+'의 variances' ])\n",
    "    print (sigma_order[:,:,i])\n",
    "print ('------------------')\n",
    "for i in range(0,NClasses):\n",
    "    print (['실제 : class'+ str(i+1)+'의 variances'])\n",
    "    print (Cov[i])"
   ]
  },
  {
   "cell_type": "markdown",
   "id": "another-knowing",
   "metadata": {},
   "source": [
    "### 실제 class"
   ]
  },
  {
   "cell_type": "code",
   "execution_count": 72,
   "id": "flying-sandwich",
   "metadata": {},
   "outputs": [
    {
     "data": {
      "text/plain": [
       "array([2., 2., 2., 2., 2., 2., 2., 3., 3., 3., 3., 2., 2., 2., 3., 2., 3.,\n",
       "       2., 3., 2., 2., 3., 2., 2., 2., 2., 3., 3., 3., 3., 2., 3., 2., 2.,\n",
       "       3., 2., 3., 2., 3., 2., 3., 2., 1., 2., 3., 3., 2., 3., 2., 3., 3.,\n",
       "       2., 2., 2., 2., 3., 2., 2., 3., 2., 3., 2., 2., 2., 2., 2., 3., 3.,\n",
       "       2., 2., 2., 3., 3., 2., 2., 2., 2., 2., 2., 3., 2., 2., 2., 2., 2.,\n",
       "       3., 3., 2., 3., 3., 3., 3., 2., 2., 3., 2., 2., 3., 2., 2., 2., 3.,\n",
       "       2., 1., 2., 2., 2., 2., 2., 2., 3., 2., 2., 2., 3., 2., 2., 3., 3.,\n",
       "       2., 3., 2., 3., 3., 3., 2., 3., 2., 2., 3., 2., 2., 2., 2., 3., 2.,\n",
       "       2., 2., 2., 3., 2., 3., 2., 2., 3., 2., 3., 3., 2., 2.])"
      ]
     },
     "execution_count": 72,
     "metadata": {},
     "output_type": "execute_result"
    }
   ],
   "source": [
    "y_true[:,2]"
   ]
  },
  {
   "cell_type": "markdown",
   "id": "cordless-league",
   "metadata": {},
   "source": [
    "### 예측 class"
   ]
  },
  {
   "cell_type": "code",
   "execution_count": 73,
   "id": "touched-clock",
   "metadata": {},
   "outputs": [
    {
     "data": {
      "text/plain": [
       "[array([2, 2, 2, 2, 2, 2, 2, 3, 3, 3, 1, 2, 2, 2, 3, 2, 3, 2, 3, 2, 2, 3,\n",
       "        2, 2, 2, 2, 1, 3, 3, 3, 2, 3, 2, 2, 3, 2, 3, 2, 3, 2, 3, 2, 2, 2,\n",
       "        3, 3, 2, 3, 2, 3, 3, 2, 2, 2, 2, 3, 2, 2, 3, 2, 3, 2, 2, 2, 2, 2,\n",
       "        3, 3, 2, 2, 2, 3, 3, 2, 2, 2, 2, 2, 2, 3, 2, 2, 2, 2, 2, 3, 3, 2,\n",
       "        3, 3, 3, 3, 2, 2, 1, 2, 2, 3, 2, 2, 2, 3, 2, 2, 2, 2, 2, 2, 2, 2,\n",
       "        3, 2, 2, 2, 3, 2, 2, 3, 3, 2, 3, 2, 3, 3, 1, 2, 3, 2, 2, 3, 2, 2,\n",
       "        2, 2, 3, 2, 2, 2, 2, 1, 2, 3, 2, 2, 3, 2, 3, 3, 2, 2], dtype=int64)]"
      ]
     },
     "execution_count": 73,
     "metadata": {},
     "output_type": "execute_result"
    }
   ],
   "source": [
    "r_list[index]"
   ]
  },
  {
   "cell_type": "markdown",
   "id": "mental-williams",
   "metadata": {},
   "source": [
    "### 정확도"
   ]
  },
  {
   "cell_type": "code",
   "execution_count": 74,
   "id": "final-doctor",
   "metadata": {
    "scrolled": true
   },
   "outputs": [
    {
     "name": "stdout",
     "output_type": "stream",
     "text": [
      "정확도 :  95.33333333333334\n"
     ]
    }
   ],
   "source": [
    "print('정확도 : ', acc*100)"
   ]
  },
  {
   "cell_type": "markdown",
   "id": "referenced-church",
   "metadata": {},
   "source": [
    "## 원래 class, 예측 class 비교"
   ]
  },
  {
   "cell_type": "code",
   "execution_count": 75,
   "id": "enclosed-messaging",
   "metadata": {},
   "outputs": [
    {
     "data": {
      "image/png": "[encoded data removed]",
      "text/plain": [
       "<Figure size 1080x432 with 2 Axes>"
      ]
     },
     "metadata": {
      "needs_background": "light"
     },
     "output_type": "display_data"
    }
   ],
   "source": [
    "fig = plt.figure(figsize=(15,6))\n",
    "ax1=fig.add_subplot(1,2,1)\n",
    "ax2=fig.add_subplot(1,2,2)\n",
    "plotsize=8\n",
    "sizeMean = 10\n",
    "text_size = 16\n",
    "axis_font = {'size':'24'}\n",
    "Title_font = {'size':'28'}\n",
    "color = ['b', 'g', 'r', 'c', 'm', 'y', 'k']\n",
    "\n",
    "for i in range(NClasses):\n",
    "    pos = [Mu[i][0],Mu[i][1]]\n",
    "    w,ve = np.linalg.eig(Cov[i][0:2,0:2])\n",
    "    order = w.argsort()[::-1]\n",
    "    w = w[order]\n",
    "    ve = ve[:,order]\n",
    "    theta = np.degrees(np.arctan(ve[1,0]/ve[0,0]))\n",
    "    width, height = 2 * np.sqrt(w)\n",
    "    ellip = Ellipse(xy=pos, width=width, height=height, angle=theta)\n",
    "    ellip.set_alpha(0.5)\n",
    "    ellip.set_facecolor(color[i])\n",
    "    ax1.plot(data_sample[i][:,0],data_sample[i][:,1], '.', c=color[i], markersize=sizeMean)\n",
    "    ax1.add_artist(ellip)\n",
    "ax1.spines['right'].set_visible(False)\n",
    "ax1.spines['top'].set_visible(False)\n",
    "ax1.xaxis.set_ticks_position('bottom')\n",
    "ax1.yaxis.set_ticks_position('left')\n",
    "ax1.set_ylabel('Y')\n",
    "ax1.set_xlabel('X')\n",
    "ax1.set_title('Original Data')\n",
    "\n",
    "\n",
    "for i in range(NClasses):\n",
    "    pos = [mu_p[i][0],mu_p[i][1]]\n",
    "    w,ve = np.linalg.eig(sigma_p[0:2,0:2,i])\n",
    "    order = w.argsort()[::-1]\n",
    "    w = w[order]\n",
    "    ve = ve[:,order]\n",
    "    theta = np.degrees(np.arctan(ve[1,0]/ve[0,0]))\n",
    "    width, height = 2 * np.sqrt(w)\n",
    "    ellip = Ellipse(xy=pos, width=width, height=height, angle=theta)\n",
    "    ellip.set_alpha(0.5)\n",
    "    ellip.set_facecolor(color[i])\n",
    "    ax2.plot(y[:,0],y[:,1], 'k.', markersize=sizeMean, alpha=0.02)\n",
    "    ax2.add_artist(ellip)\n",
    "ax2.spines['right'].set_visible(False)\n",
    "ax2.spines['top'].set_visible(False)\n",
    "ax2.xaxis.set_ticks_position('bottom')\n",
    "ax2.yaxis.set_ticks_position('left')\n",
    "ax2.set_ylabel('Y')\n",
    "ax2.set_xlabel('X')\n",
    "ax2.set_title('After EM algorithm, predicted classes')\n",
    "plt.show()"
   ]
  },
  {
   "cell_type": "code",
   "execution_count": null,
   "id": "organizational-delhi",
   "metadata": {},
   "outputs": [],
   "source": []
  }
 ],
 "metadata": {
  "kernelspec": {
   "display_name": "Python 3",
   "language": "python",
   "name": "python3"
  },
  "language_info": {
   "codemirror_mode": {
    "name": "ipython",
    "version": 3
   },
   "file_extension": ".py",
   "mimetype": "text/x-python",
   "name": "python",
   "nbconvert_exporter": "python",
   "pygments_lexer": "ipython3",
   "version": "3.8.5"
  }
 },
 "nbformat": 4,
 "nbformat_minor": 5
}
